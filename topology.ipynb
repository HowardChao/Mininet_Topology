{
 "cells": [
  {
   "cell_type": "code",
   "execution_count": 33,
   "metadata": {},
   "outputs": [],
   "source": [
    "from mininet.topo import Topo\n",
    "from mininet.util import irange\n",
    "from mininet.cli  import CLI\n",
    "from mininet.net import Mininet\n",
    "from mininet.node import OVSSwitch, Controller, RemoteController\n",
    "from mininet.log import setLogLevel, info"
   ]
  },
  {
   "cell_type": "code",
   "execution_count": 34,
   "metadata": {},
   "outputs": [],
   "source": [
    "net = Mininet(controller=Controller, switch=OVSSwitch)"
   ]
  },
  {
   "cell_type": "code",
   "execution_count": 35,
   "metadata": {},
   "outputs": [
    {
     "name": "stdout",
     "output_type": "stream",
     "text": [
      "1\n",
      "2\n",
      "3\n",
      "4\n",
      "5\n",
      "['s1', 's2', 's3', 's4', 'ss1', 'ss2', 'ss3', 'ss4', 'ss5', 'sss1', 'sss2', 'sss3', 'sss4', 'sh1', 'sh2', 'ssh1', 'ssh2', 'ssh3', 'sssh4']\n",
      "[['s1', 's2', '100'], ['s1', 's2', '200'], ['s1', 's3', '100'], ['s1', 'ss2', '100']]\n"
     ]
    }
   ],
   "source": [
    "line_number = 1\n",
    "list_node = []\n",
    "list_link = []\n",
    "host_node_list = []\n",
    "switch_node_list = []\n",
    "with open('graph.txt') as f:\n",
    "    for each_line in f:\n",
    "        if(line_number == 1):\n",
    "            print(line_number)\n",
    "            list_node = each_line.split()\n",
    "            line_number += 1\n",
    "        else:\n",
    "            print(line_number)\n",
    "            each_link = each_line.split()\n",
    "            list_link.append(each_link)\n",
    "            line_number += 1\n",
    "            \n",
    "print(list_node)          \n",
    "print(list_link)"
   ]
  },
  {
   "cell_type": "code",
   "execution_count": 38,
   "metadata": {},
   "outputs": [],
   "source": [
    "def build( host_node_list, switch_node_list, list_link):\n",
    "    for i in switch_node_list:\n",
    "        info( \"*** Creating switches\\n\" )\n",
    "        net.addHost(i)\n",
    "    for i in host_node_list:\n",
    "        info( \"*** Creating hosts\\n\" )\n",
    "        net.addSwitch(i)"
   ]
  },
  {
   "cell_type": "code",
   "execution_count": 39,
   "metadata": {},
   "outputs": [
    {
     "name": "stdout",
     "output_type": "stream",
     "text": [
      "['sh1', 'sh2', 'ssh1', 'ssh2', 'ssh3', 'sssh4']\n",
      "['s1', 's2', 's3', 's4', 'ss1', 'ss2', 'ss3', 'ss4', 'ss5', 'sss1', 'sss2', 'sss3', 'sss4']\n"
     ]
    }
   ],
   "source": [
    "for i in list_node:\n",
    "#     print(i)\n",
    "    if(i[len(i)-2] == 's'):\n",
    "        switch_node_list.append(i)\n",
    "        \n",
    "    elif( i[len(i)-2] == 'h' ):\n",
    "        host_node_list.append(i)\n",
    "        \n",
    "print(host_node_list)\n",
    "print(switch_node_list)\n",
    "\n",
    "build(host_node_list=host_node_list, switch_node_list=switch_node_list, list_link=list_link)"
   ]
  },
  {
   "cell_type": "code",
   "execution_count": 31,
   "metadata": {},
   "outputs": [
    {
     "ename": "AttributeError",
     "evalue": "'list' object has no attribute 'newPort'",
     "output_type": "error",
     "traceback": [
      "\u001b[0;31m---------------------------------------------------------------------------\u001b[0m",
      "\u001b[0;31mAttributeError\u001b[0m                            Traceback (most recent call last)",
      "\u001b[0;32m<ipython-input-31-3198384e82c0>\u001b[0m in \u001b[0;36m<module>\u001b[0;34m()\u001b[0m\n\u001b[1;32m      1\u001b[0m \u001b[0;32mfor\u001b[0m \u001b[0mx\u001b[0m \u001b[0;32min\u001b[0m \u001b[0mlist_link\u001b[0m\u001b[0;34m:\u001b[0m\u001b[0;34m\u001b[0m\u001b[0m\n\u001b[0;32m----> 2\u001b[0;31m     \u001b[0mnet\u001b[0m\u001b[0;34m.\u001b[0m\u001b[0maddLink\u001b[0m\u001b[0;34m(\u001b[0m\u001b[0mlist_link\u001b[0m\u001b[0;34m[\u001b[0m\u001b[0;36m0\u001b[0m\u001b[0;34m]\u001b[0m\u001b[0;34m,\u001b[0m \u001b[0mlist_link\u001b[0m\u001b[0;34m[\u001b[0m\u001b[0;36m1\u001b[0m\u001b[0;34m]\u001b[0m\u001b[0;34m)\u001b[0m\u001b[0;34m\u001b[0m\u001b[0m\n\u001b[0m",
      "\u001b[0;32m/usr/local/lib/python2.7/dist-packages/mininet-2.3.0d1-py2.7.egg/mininet/net.pyc\u001b[0m in \u001b[0;36maddLink\u001b[0;34m(self, node1, node2, port1, port2, cls, **params)\u001b[0m\n\u001b[1;32m    398\u001b[0m         \u001b[0moptions\u001b[0m\u001b[0;34m.\u001b[0m\u001b[0msetdefault\u001b[0m\u001b[0;34m(\u001b[0m \u001b[0;34m'addr2'\u001b[0m\u001b[0;34m,\u001b[0m \u001b[0mself\u001b[0m\u001b[0;34m.\u001b[0m\u001b[0mrandMac\u001b[0m\u001b[0;34m(\u001b[0m\u001b[0;34m)\u001b[0m \u001b[0;34m)\u001b[0m\u001b[0;34m\u001b[0m\u001b[0m\n\u001b[1;32m    399\u001b[0m         \u001b[0mcls\u001b[0m \u001b[0;34m=\u001b[0m \u001b[0mself\u001b[0m\u001b[0;34m.\u001b[0m\u001b[0mlink\u001b[0m \u001b[0;32mif\u001b[0m \u001b[0mcls\u001b[0m \u001b[0;32mis\u001b[0m \u001b[0mNone\u001b[0m \u001b[0;32melse\u001b[0m \u001b[0mcls\u001b[0m\u001b[0;34m\u001b[0m\u001b[0m\n\u001b[0;32m--> 400\u001b[0;31m         \u001b[0mlink\u001b[0m \u001b[0;34m=\u001b[0m \u001b[0mcls\u001b[0m\u001b[0;34m(\u001b[0m \u001b[0mnode1\u001b[0m\u001b[0;34m,\u001b[0m \u001b[0mnode2\u001b[0m\u001b[0;34m,\u001b[0m \u001b[0;34m**\u001b[0m\u001b[0moptions\u001b[0m \u001b[0;34m)\u001b[0m\u001b[0;34m\u001b[0m\u001b[0m\n\u001b[0m\u001b[1;32m    401\u001b[0m         \u001b[0mself\u001b[0m\u001b[0;34m.\u001b[0m\u001b[0mlinks\u001b[0m\u001b[0;34m.\u001b[0m\u001b[0mappend\u001b[0m\u001b[0;34m(\u001b[0m \u001b[0mlink\u001b[0m \u001b[0;34m)\u001b[0m\u001b[0;34m\u001b[0m\u001b[0m\n\u001b[1;32m    402\u001b[0m         \u001b[0;32mreturn\u001b[0m \u001b[0mlink\u001b[0m\u001b[0;34m\u001b[0m\u001b[0m\n",
      "\u001b[0;32m/usr/local/lib/python2.7/dist-packages/mininet-2.3.0d1-py2.7.egg/mininet/link.pyc\u001b[0m in \u001b[0;36m__init__\u001b[0;34m(self, node1, node2, port1, port2, intfName1, intfName2, addr1, addr2, intf, cls1, cls2, params1, params2, fast)\u001b[0m\n\u001b[1;32m    436\u001b[0m             \u001b[0mparams2\u001b[0m\u001b[0;34m[\u001b[0m \u001b[0;34m'port'\u001b[0m \u001b[0;34m]\u001b[0m \u001b[0;34m=\u001b[0m \u001b[0mport2\u001b[0m\u001b[0;34m\u001b[0m\u001b[0m\n\u001b[1;32m    437\u001b[0m         \u001b[0;32mif\u001b[0m \u001b[0;34m'port'\u001b[0m \u001b[0;32mnot\u001b[0m \u001b[0;32min\u001b[0m \u001b[0mparams1\u001b[0m\u001b[0;34m:\u001b[0m\u001b[0;34m\u001b[0m\u001b[0m\n\u001b[0;32m--> 438\u001b[0;31m             \u001b[0mparams1\u001b[0m\u001b[0;34m[\u001b[0m \u001b[0;34m'port'\u001b[0m \u001b[0;34m]\u001b[0m \u001b[0;34m=\u001b[0m \u001b[0mnode1\u001b[0m\u001b[0;34m.\u001b[0m\u001b[0mnewPort\u001b[0m\u001b[0;34m(\u001b[0m\u001b[0;34m)\u001b[0m\u001b[0;34m\u001b[0m\u001b[0m\n\u001b[0m\u001b[1;32m    439\u001b[0m         \u001b[0;32mif\u001b[0m \u001b[0;34m'port'\u001b[0m \u001b[0;32mnot\u001b[0m \u001b[0;32min\u001b[0m \u001b[0mparams2\u001b[0m\u001b[0;34m:\u001b[0m\u001b[0;34m\u001b[0m\u001b[0m\n\u001b[1;32m    440\u001b[0m             \u001b[0mparams2\u001b[0m\u001b[0;34m[\u001b[0m \u001b[0;34m'port'\u001b[0m \u001b[0;34m]\u001b[0m \u001b[0;34m=\u001b[0m \u001b[0mnode2\u001b[0m\u001b[0;34m.\u001b[0m\u001b[0mnewPort\u001b[0m\u001b[0;34m(\u001b[0m\u001b[0;34m)\u001b[0m\u001b[0;34m\u001b[0m\u001b[0m\n",
      "\u001b[0;31mAttributeError\u001b[0m: 'list' object has no attribute 'newPort'"
     ]
    }
   ],
   "source": [
    "for x in list_link:\n",
    "    net.addLink(list_link[0], list_link[1])"
   ]
  },
  {
   "cell_type": "code",
   "execution_count": 40,
   "metadata": {},
   "outputs": [
    {
     "name": "stderr",
     "output_type": "stream",
     "text": [
      "*** defaultIntf: warning: s1 has no interfaces\n",
      "*** defaultIntf: warning: s2 has no interfaces\n",
      "*** defaultIntf: warning: s3 has no interfaces\n",
      "*** defaultIntf: warning: s4 has no interfaces\n",
      "*** defaultIntf: warning: ss1 has no interfaces\n",
      "*** defaultIntf: warning: ss2 has no interfaces\n",
      "*** defaultIntf: warning: ss3 has no interfaces\n",
      "*** defaultIntf: warning: ss4 has no interfaces\n",
      "*** defaultIntf: warning: ss5 has no interfaces\n",
      "*** defaultIntf: warning: sss1 has no interfaces\n",
      "*** defaultIntf: warning: sss2 has no interfaces\n",
      "*** defaultIntf: warning: sss3 has no interfaces\n",
      "*** defaultIntf: warning: sss4 has no interfaces\n"
     ]
    }
   ],
   "source": [
    "info( \"*** Starting network\\n\" )\n",
    "net.build()\n",
    "c1.start()\n",
    "c2.start()"
   ]
  },
  {
   "cell_type": "code",
   "execution_count": null,
   "metadata": {},
   "outputs": [],
   "source": [
    "CLI(net)"
   ]
  },
  {
   "cell_type": "code",
   "execution_count": null,
   "metadata": {},
   "outputs": [],
   "source": []
  }
 ],
 "metadata": {
  "kernelspec": {
   "display_name": "Python 2",
   "language": "python",
   "name": "python2"
  },
  "language_info": {
   "codemirror_mode": {
    "name": "ipython",
    "version": 2
   },
   "file_extension": ".py",
   "mimetype": "text/x-python",
   "name": "python",
   "nbconvert_exporter": "python",
   "pygments_lexer": "ipython2",
   "version": "2.7.12"
  }
 },
 "nbformat": 4,
 "nbformat_minor": 2
}
