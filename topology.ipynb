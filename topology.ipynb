{
 "cells": [
  {
   "cell_type": "code",
   "execution_count": 76,
   "metadata": {},
   "outputs": [],
   "source": [
    "from mininet.topo import Topo\n",
    "from mininet.util import irange"
   ]
  },
  {
   "cell_type": "code",
   "execution_count": 79,
   "metadata": {},
   "outputs": [
    {
     "name": "stdout",
     "output_type": "stream",
     "text": [
      "1\n",
      "2\n",
      "3\n",
      "4\n",
      "5\n",
      "['s1', 's2', 's3', 's4', 'ss1', 'ss2', 'ss3', 'ss4', 'ss5', 'sss1', 'sss2', 'sss3', 'sss4', 'sh1', 'sh2', 'ssh1', 'ssh2', 'ssh3', 'sssh4']\n",
      "[['s1', 's2', '100'], ['s1', 's2', '200'], ['s1', 's3', '100'], ['s1', 'ss2', '100']]\n"
     ]
    }
   ],
   "source": [
    "line_number = 1\n",
    "list_node = []\n",
    "list_link = []\n",
    "host_node_list = []\n",
    "switch_node_list = []\n",
    "with open('graph.txt') as f:\n",
    "    for each_line in f:\n",
    "        if(line_number == 1):\n",
    "            print(line_number)\n",
    "            list_node = each_line.split()\n",
    "            line_number += 1\n",
    "        else:\n",
    "            print(line_number)\n",
    "            each_link = each_line.split()\n",
    "            list_link.append(each_link)\n",
    "            line_number += 1\n",
    "            \n",
    "print(list_node)          \n",
    "print(list_link)"
   ]
  },
  {
   "cell_type": "code",
   "execution_count": 85,
   "metadata": {},
   "outputs": [
    {
     "name": "stdout",
     "output_type": "stream",
     "text": [
      "['sh1', 'sh2', 'ssh1', 'ssh2', 'ssh3', 'sssh4', 'sh1', 'sh2', 'ssh1', 'ssh2', 'ssh3', 'sssh4', 'sh1', 'sh2', 'ssh1', 'ssh2', 'ssh3', 'sssh4']\n",
      "['s1', 's2', 's3', 's4', 'ss1', 'ss2', 'ss3', 'ss4', 'ss5', 'sss1', 'sss2', 'sss3', 'sss4', 's1', 's2', 's3', 's4', 'ss1', 'ss2', 'ss3', 'ss4', 'ss5', 'sss1', 'sss2', 'sss3', 'sss4', 's1', 's2', 's3', 's4', 'ss1', 'ss2', 'ss3', 'ss4', 'ss5', 'sss1', 'sss2', 'sss3', 'sss4']\n"
     ]
    },
    {
     "ename": "TypeError",
     "evalue": "build() takes exactly 4 arguments (3 given)",
     "output_type": "error",
     "traceback": [
      "\u001b[0;31m---------------------------------------------------------------------------\u001b[0m",
      "\u001b[0;31mTypeError\u001b[0m                                 Traceback (most recent call last)",
      "\u001b[0;32m<ipython-input-85-9acd4f970a03>\u001b[0m in \u001b[0;36m<module>\u001b[0;34m()\u001b[0m\n\u001b[1;32m     10\u001b[0m \u001b[0;32mprint\u001b[0m\u001b[0;34m(\u001b[0m\u001b[0mswitch_node_list\u001b[0m\u001b[0;34m)\u001b[0m\u001b[0;34m\u001b[0m\u001b[0m\n\u001b[1;32m     11\u001b[0m \u001b[0;34m\u001b[0m\u001b[0m\n\u001b[0;32m---> 12\u001b[0;31m \u001b[0mbuild\u001b[0m\u001b[0;34m(\u001b[0m\u001b[0mhost_node_list\u001b[0m\u001b[0;34m=\u001b[0m\u001b[0mhost_node_list\u001b[0m\u001b[0;34m,\u001b[0m \u001b[0mswitch_node_list\u001b[0m\u001b[0;34m=\u001b[0m\u001b[0mswitch_node_list\u001b[0m\u001b[0;34m,\u001b[0m \u001b[0mlist_link\u001b[0m\u001b[0;34m=\u001b[0m\u001b[0mlist_link\u001b[0m\u001b[0;34m)\u001b[0m\u001b[0;34m\u001b[0m\u001b[0m\n\u001b[0m",
      "\u001b[0;31mTypeError\u001b[0m: build() takes exactly 4 arguments (3 given)"
     ]
    }
   ],
   "source": [
    "for i in list_node:\n",
    "#     print(i)\n",
    "    if(i[len(i)-2] == 's'):\n",
    "        switch_node_list.append(i)\n",
    "        \n",
    "    elif( i[len(i)-2] == 'h' ):\n",
    "        host_node_list.append(i)\n",
    "        \n",
    "print(host_node_list)\n",
    "print(switch_node_list)\n",
    "\n",
    "build(host_node_list=host_node_list, switch_node_list=switch_node_list, list_link=list_link)"
   ]
  },
  {
   "cell_type": "code",
   "execution_count": 82,
   "metadata": {},
   "outputs": [],
   "source": [
    "def build(self, host_node_list, switch_node_list, list_link):\n",
    "    for i in host_node_list:\n",
    "        self.addSwitch(i)\n",
    "    for i in switch_node_list:\n",
    "        self.addHost(i)\n",
    "    "
   ]
  },
  {
   "cell_type": "code",
   "execution_count": 8,
   "metadata": {},
   "outputs": [
    {
     "name": "stdout",
     "output_type": "stream",
     "text": [
      "graph.txt  Untitled.ipynb\r\n"
     ]
    }
   ],
   "source": [
    "%ls"
   ]
  },
  {
   "cell_type": "code",
   "execution_count": null,
   "metadata": {},
   "outputs": [],
   "source": []
  }
 ],
 "metadata": {
  "kernelspec": {
   "display_name": "Python 2",
   "language": "python",
   "name": "python2"
  },
  "language_info": {
   "codemirror_mode": {
    "name": "ipython",
    "version": 2
   },
   "file_extension": ".py",
   "mimetype": "text/x-python",
   "name": "python",
   "nbconvert_exporter": "python",
   "pygments_lexer": "ipython2",
   "version": "2.7.12"
  }
 },
 "nbformat": 4,
 "nbformat_minor": 2
}
