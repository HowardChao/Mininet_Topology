{
 "cells": [
  {
   "cell_type": "code",
   "execution_count": 184,
   "metadata": {},
   "outputs": [],
   "source": [
    "from mininet.topo import Topo\n",
    "from mininet.util import irange\n",
    "from mininet.cli  import CLI\n",
    "from mininet.net import Mininet\n",
    "from mininet.node import OVSSwitch, Controller, RemoteController\n",
    "from mininet.log import setLogLevel, info\n",
    "import csv"
   ]
  },
  {
   "cell_type": "code",
   "execution_count": 186,
   "metadata": {
    "scrolled": false
   },
   "outputs": [
    {
     "name": "stdout",
     "output_type": "stream",
     "text": [
      "# 這裡會放一些註解(參數等等）\n",
      "# 註解可能會超過一行\n",
      "# 最底層的開始ID, host數量, bandwidth\n",
      "2000, 4, 100\n",
      "# NodeID, x_pos, y_pos, degree\n",
      "0, 10, 20, 5\n",
      "1, 10, 20, 5\n",
      "2000, 10, 20, 8\n",
      "2222, 10, 20, 3\n",
      "# links\n",
      "0, 1\n",
      "0, 2000\n",
      "0, 2222\n",
      "1, 2000\n",
      "2000, 2222\n",
      "c\n",
      "# 吃到c代表結束\n"
     ]
    }
   ],
   "source": [
    "with open('topology.txt', 'rb') as csvfile:\n",
    "    spamreader = csv.reader(csvfile, delimiter=',')\n",
    "    for row in spamreader:\n",
    "        print ', '.join(row)"
   ]
  },
  {
   "cell_type": "code",
   "execution_count": 187,
   "metadata": {},
   "outputs": [
    {
     "name": "stdout",
     "output_type": "stream",
     "text": [
      "# 這裡會放一些註解(參數等等）\n",
      "\n",
      "# 註解可能會超過一行\n",
      "\n",
      "# 最底層的開始ID,host數量,bandwidth\n",
      "\n",
      "['2000', '4', '100\\n']\n",
      "# NodeID,x_pos,y_pos,degree\n",
      "\n",
      "['0', '10', '20', '5\\n']\n",
      "['1', '10', '20', '5\\n']\n",
      "['2000', '10', '20', '8\\n']\n",
      "['2222', '10', '20', '3\\n']\n",
      "# links\n",
      "\n",
      "['0', '1\\n']\n",
      "['0', '2000\\n']\n",
      "['0', '2222\\n']\n",
      "['1', '2000\\n']\n",
      "['2000', '2222\\n']\n"
     ]
    }
   ],
   "source": [
    "def parse_file():\n",
    "    line_list = []\n",
    "    with open('topology.txt') as f:\n",
    "        for each_line in f: \n",
    "            if each_line[0] == '#':\n",
    "                print(each_line)\n",
    "                continue\n",
    "            elif each_line == 'c\\n':\n",
    "                break\n",
    "            else:\n",
    "                a = each_line.split(\",\")\n",
    "                line_list.append(a)\n",
    "                print(a)\n",
    "    bottom_start_id = int(line_list[0][0])\n",
    "    host_number = int(line_list[0][1])\n",
    "    bandwidth = int(line_list[0][2])"
   ]
  },
  {
   "cell_type": "code",
   "execution_count": 188,
   "metadata": {},
   "outputs": [],
   "source": []
  },
  {
   "cell_type": "code",
   "execution_count": 189,
   "metadata": {},
   "outputs": [
    {
     "name": "stdout",
     "output_type": "stream",
     "text": [
      "['0', '10', '20', '5\\n']\n",
      "['1', '10', '20', '5\\n']\n",
      "['2000', '10', '20', '8\\n']\n",
      "['2222', '10', '20', '3\\n']\n"
     ]
    }
   ],
   "source": [
    "class custom_topo(Topo):\n",
    "    \"Configurable Datacenter Topology\"\n",
    "    \n",
    "    def build(self):\n",
    "        for i in line_list[1:host_number+1]:\n",
    "#             info( \"*** Creating hosts\\n\" )\n",
    "            self.addSwitch(\"s\"+i[0])\n",
    "            if(int(i[0]) >= bottom_start_id):\n",
    "                for a in range(3):\n",
    "                    self.addHost(\"h\"+i[0]+str(a+1))\n",
    "#                     print(a+1)\n",
    "        for i in line_list[host_number+1:]:\n",
    "#             info( \"*** Adding links\\n\" )\n",
    "#             print(i[0])\n",
    "#             print(i[1])\n",
    "            self.addLink(\"s\"+i[0], \"s\"+str(int(i[1])))\n",
    "#             print(i)\n",
    "        for i in line_list[1:host_number+1]:\n",
    "#             info( \"*** Creating hosts\\n\" )\n",
    "            if(int(i[0]) >= bottom_start_id):\n",
    "                for a in range(3):\n",
    "                    self.addLink(\"s\"+i[0], \"h\"+i[0]+str(a+1))\n",
    "#                     print(a+1)\n",
    "for i in line_list[1:host_number+1]:\n",
    "    print(i)"
   ]
  },
  {
   "cell_type": "code",
   "execution_count": 190,
   "metadata": {},
   "outputs": [
    {
     "name": "stdout",
     "output_type": "stream",
     "text": [
      "0\n",
      "1\n",
      "['0', '1\\n']\n",
      "0\n",
      "2000\n",
      "['0', '2000\\n']\n",
      "0\n",
      "2222\n",
      "['0', '2222\\n']\n",
      "1\n",
      "2000\n",
      "['1', '2000\\n']\n",
      "2000\n",
      "2222\n",
      "['2000', '2222\\n']\n"
     ]
    }
   ],
   "source": [
    "        for i in line_list[host_number+1:]:\n",
    "#             info( \"*** Adding links\\n\" )\n",
    "            print(i[0])\n",
    "            print(str(int(i[1])))\n",
    "#             self.addLink(\"s\" + i[0], \"s\"+str(int(i[1])))\n",
    "            print(i)"
   ]
  },
  {
   "cell_type": "code",
   "execution_count": 191,
   "metadata": {},
   "outputs": [
    {
     "name": "stdout",
     "output_type": "stream",
     "text": [
      "['0', '1\\n']\n",
      "['0', '2000\\n']\n",
      "['0', '2222\\n']\n",
      "['1', '2000\\n']\n",
      "['2000', '2222\\n']\n"
     ]
    }
   ],
   "source": [
    "for i in line_list[host_number+1:]:\n",
    "    print(i)"
   ]
  },
  {
   "cell_type": "code",
   "execution_count": 182,
   "metadata": {},
   "outputs": [],
   "source": [
    "def runNet():\n",
    "    \"Create and run the network\"\n",
    "    info( \"*** Starting network\\n\" )\n",
    "    topo = custom_topo()\n",
    "    net = Mininet( topo = topo, controller=Controller, switch=OVSSwitch, )\n",
    "    net.start()\n",
    "    CLI(net)"
   ]
  },
  {
   "cell_type": "code",
   "execution_count": null,
   "metadata": {
    "scrolled": false
   },
   "outputs": [
    {
     "name": "stderr",
     "output_type": "stream",
     "text": [
      "*** Starting network\n",
      "*** Creating network\n",
      "*** Adding controller\n",
      "*** Adding hosts:\n",
      "h20001 h20002 h20003 h22221 h22222 h22223 \n",
      "*** Adding switches:\n",
      "s0 s1 s2000 s2222 \n",
      "*** Adding links:\n",
      "(s0, s1) (s0, s2000) (s0, s2222) (s1, s2000) (s2000, h20001) (s2000, h20002) (s2000, h20003) (s2000, s2222) (s2222, h22221) (s2222, h22222) (s2222, h22223) \n",
      "*** Configuring hosts\n",
      "h20001 h20002 h20003 h22221 h22222 h22223 \n",
      "*** Starting controller\n",
      "c0 \n",
      "*** Starting 4 switches\n",
      "s0 s1 s2000 s2222 ...\n",
      "*** Starting CLI:\n"
     ]
    },
    {
     "name": "stdout",
     "output_type": "stream",
     "text": [
      "mininet> pingall\n"
     ]
    },
    {
     "name": "stderr",
     "output_type": "stream",
     "text": [
      "*** Ping: testing ping reachability\n",
      "h20001 -> X X X X X \n",
      "h20002 -> X X X X X \n",
      "h20003 -> X X X X X \n",
      "h22221 -> X X X X X \n",
      "h22222 -> X X X X X \n",
      "h22223 -> X X X X X \n",
      "*** Results: 100% dropped (0/30 received)\n"
     ]
    }
   ],
   "source": [
    "if __name__ == '__main__':\n",
    "    setLogLevel( 'info' )\n",
    "    list_node = []\n",
    "    list_link = []\n",
    "    host_node_list = []\n",
    "    switch_node_list = []\n",
    "    \n",
    "    parseFile()\n",
    "#     print(list_node)          \n",
    "#     print(list_link)\n",
    "    runNet()"
   ]
  },
  {
   "cell_type": "code",
   "execution_count": null,
   "metadata": {},
   "outputs": [],
   "source": []
  },
  {
   "cell_type": "code",
   "execution_count": null,
   "metadata": {},
   "outputs": [],
   "source": []
  }
 ],
 "metadata": {
  "kernelspec": {
   "display_name": "Python 2",
   "language": "python",
   "name": "python2"
  },
  "language_info": {
   "codemirror_mode": {
    "name": "ipython",
    "version": 2
   },
   "file_extension": ".py",
   "mimetype": "text/x-python",
   "name": "python",
   "nbconvert_exporter": "python",
   "pygments_lexer": "ipython2",
   "version": "2.7.12"
  }
 },
 "nbformat": 4,
 "nbformat_minor": 2
}
