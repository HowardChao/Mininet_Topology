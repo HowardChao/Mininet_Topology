{
 "cells": [
  {
   "cell_type": "code",
   "execution_count": 1,
   "metadata": {},
   "outputs": [],
   "source": [
    "from mininet.topo import Topo\n",
    "from mininet.net import Mininet\n",
    "from mininet.node import Node\n",
    "from mininet.log import setLogLevel, info\n",
    "from mininet.cli import CLI"
   ]
  },
  {
   "cell_type": "markdown",
   "metadata": {},
   "source": [
    "## 讀links檔"
   ]
  },
  {
   "cell_type": "code",
   "execution_count": 2,
   "metadata": {},
   "outputs": [],
   "source": [
    "with open(\"links.txt\") as f:\n",
    "    links = f.readlines()\n",
    "    f.close"
   ]
  },
  {
   "cell_type": "code",
   "execution_count": 3,
   "metadata": {},
   "outputs": [
    {
     "data": {
      "text/plain": [
       "['(0, 3)\\n', '(3, 9)\\n', '(3, 26)\\n', '(3, 64)\\n', '(26, 64)\\n']"
      ]
     },
     "execution_count": 3,
     "metadata": {},
     "output_type": "execute_result"
    }
   ],
   "source": [
    "links"
   ]
  },
  {
   "cell_type": "code",
   "execution_count": 4,
   "metadata": {},
   "outputs": [],
   "source": [
    "links_store = []"
   ]
  },
  {
   "cell_type": "code",
   "execution_count": 5,
   "metadata": {},
   "outputs": [],
   "source": [
    "for i in links:\n",
    "    link = ((i.split(\",\")[0]).split(\"(\")[1], (i.split(\", \")[1]).split(\")\")[0])\n",
    "    links_store.append(link)\n",
    "\n",
    "#     for j in i.split(\",\"):"
   ]
  },
  {
   "cell_type": "code",
   "execution_count": 6,
   "metadata": {},
   "outputs": [
    {
     "data": {
      "text/plain": [
       "[('0', '3'), ('3', '9'), ('3', '26'), ('3', '64'), ('26', '64')]"
      ]
     },
     "execution_count": 6,
     "metadata": {},
     "output_type": "execute_result"
    }
   ],
   "source": [
    "links_store"
   ]
  },
  {
   "cell_type": "markdown",
   "metadata": {},
   "source": [
    "## 讀nodes檔"
   ]
  },
  {
   "cell_type": "code",
   "execution_count": 7,
   "metadata": {},
   "outputs": [],
   "source": [
    "with open(\"nodes.txt\") as f:\n",
    "    nodes = f.readlines()\n",
    "    f.close"
   ]
  },
  {
   "cell_type": "code",
   "execution_count": 8,
   "metadata": {},
   "outputs": [],
   "source": [
    "nodes_store = []"
   ]
  },
  {
   "cell_type": "code",
   "execution_count": 9,
   "metadata": {},
   "outputs": [],
   "source": [
    "for i in nodes:\n",
    "#     print(i.split(\"\\n\"))[0]\n",
    "    nodes_store.append(int(i.split(\"\\n\")[0]))"
   ]
  },
  {
   "cell_type": "code",
   "execution_count": 10,
   "metadata": {},
   "outputs": [
    {
     "data": {
      "text/plain": [
       "[0, 3, 9, 26, 64]"
      ]
     },
     "execution_count": 10,
     "metadata": {},
     "output_type": "execute_result"
    }
   ],
   "source": [
    "nodes_store"
   ]
  },
  {
   "cell_type": "markdown",
   "metadata": {},
   "source": [
    "## 讀ips檔"
   ]
  },
  {
   "cell_type": "code",
   "execution_count": 11,
   "metadata": {},
   "outputs": [],
   "source": [
    "with open(\"ips.txt\") as f:\n",
    "    ips = f.readlines()\n",
    "    f.close"
   ]
  },
  {
   "cell_type": "code",
   "execution_count": 12,
   "metadata": {},
   "outputs": [],
   "source": [
    "ips_store = []"
   ]
  },
  {
   "cell_type": "code",
   "execution_count": 13,
   "metadata": {},
   "outputs": [],
   "source": [
    "for i in ips:\n",
    "#     print(i.split(\"\\n\"))[0]\n",
    "    ips_store.append(i.split(\"\\n\")[0])"
   ]
  },
  {
   "cell_type": "code",
   "execution_count": 14,
   "metadata": {},
   "outputs": [
    {
     "data": {
      "text/plain": [
       "['168.0.1.254', '168.0.4.254', '168.0.10.254', '168.0.27.254', '168.0.65.254']"
      ]
     },
     "execution_count": 14,
     "metadata": {},
     "output_type": "execute_result"
    }
   ],
   "source": [
    "ips_store"
   ]
  },
  {
   "cell_type": "markdown",
   "metadata": {},
   "source": [
    "## 讀 IntraTable_next_hop 檔"
   ]
  },
  {
   "cell_type": "code",
   "execution_count": 15,
   "metadata": {},
   "outputs": [],
   "source": [
    "IntraTable_store = []"
   ]
  },
  {
   "cell_type": "code",
   "execution_count": 16,
   "metadata": {},
   "outputs": [],
   "source": [
    "with open(\"IntraTable_next_hop.txt\") as f:\n",
    "    next_hops = f.readlines()\n",
    "    f.close"
   ]
  },
  {
   "cell_type": "code",
   "execution_count": 17,
   "metadata": {},
   "outputs": [],
   "source": [
    "for i in next_hops:\n",
    "#     print(i.split(\"\\n\"))[0]\n",
    "    IntraTable_store.append(int(i.split(\"\\n\")[0]))"
   ]
  },
  {
   "cell_type": "code",
   "execution_count": 18,
   "metadata": {},
   "outputs": [
    {
     "data": {
      "text/plain": [
       "[3, 3, 3, 3, 0, 9, 26, 64, 3, 3, 3, 3, 3, 3, 3, 64, 3, 3, 3, 26]"
      ]
     },
     "execution_count": 18,
     "metadata": {},
     "output_type": "execute_result"
    }
   ],
   "source": [
    "IntraTable_store"
   ]
  },
  {
   "cell_type": "markdown",
   "metadata": {},
   "source": [
    "# 更改 ip 遮罩"
   ]
  },
  {
   "cell_type": "code",
   "execution_count": 19,
   "metadata": {},
   "outputs": [],
   "source": [
    "# for i in range(len(ips_store)):\n",
    "#     ips_store[i] = ips_store[i]+\"/16\""
   ]
  },
  {
   "cell_type": "markdown",
   "metadata": {},
   "source": [
    "## 加 router 'r'"
   ]
  },
  {
   "cell_type": "code",
   "execution_count": 20,
   "metadata": {},
   "outputs": [],
   "source": [
    "nodes_store_r = []"
   ]
  },
  {
   "cell_type": "code",
   "execution_count": 21,
   "metadata": {},
   "outputs": [],
   "source": [
    "for i in range(len(nodes_store)):\n",
    "    nodes_store_r.append(\"r\" + str(nodes_store[i]))"
   ]
  },
  {
   "cell_type": "code",
   "execution_count": 22,
   "metadata": {},
   "outputs": [
    {
     "data": {
      "text/plain": [
       "['r0', 'r3', 'r9', 'r26', 'r64']"
      ]
     },
     "execution_count": 22,
     "metadata": {},
     "output_type": "execute_result"
    }
   ],
   "source": [
    "nodes_store_r"
   ]
  },
  {
   "cell_type": "markdown",
   "metadata": {},
   "source": [
    "##  加 routers !! (mininet)"
   ]
  },
  {
   "cell_type": "code",
   "execution_count": 23,
   "metadata": {},
   "outputs": [],
   "source": [
    "routers = {}"
   ]
  },
  {
   "cell_type": "code",
   "execution_count": 24,
   "metadata": {},
   "outputs": [
    {
     "data": {
      "text/plain": [
       "[0, 3, 9, 26, 64]"
      ]
     },
     "execution_count": 24,
     "metadata": {},
     "output_type": "execute_result"
    }
   ],
   "source": [
    "nodes_store"
   ]
  },
  {
   "cell_type": "code",
   "execution_count": 25,
   "metadata": {},
   "outputs": [],
   "source": [
    "routers = {}\n",
    "for i in range(len(nodes_store)):\n",
    "    routers[nodes_store_r[i]] = \"aaaa\" + nodes_store_r[i]"
   ]
  },
  {
   "cell_type": "code",
   "execution_count": 26,
   "metadata": {},
   "outputs": [
    {
     "data": {
      "text/plain": [
       "{'r0': 'aaaar0',\n",
       " 'r26': 'aaaar26',\n",
       " 'r3': 'aaaar3',\n",
       " 'r64': 'aaaar64',\n",
       " 'r9': 'aaaar9'}"
      ]
     },
     "execution_count": 26,
     "metadata": {},
     "output_type": "execute_result"
    }
   ],
   "source": [
    "routers"
   ]
  },
  {
   "cell_type": "code",
   "execution_count": null,
   "metadata": {},
   "outputs": [],
   "source": []
  },
  {
   "cell_type": "code",
   "execution_count": null,
   "metadata": {},
   "outputs": [],
   "source": []
  },
  {
   "cell_type": "code",
   "execution_count": 67,
   "metadata": {},
   "outputs": [],
   "source": [
    "class LinuxRouter( Node ):\n",
    "    \"A Node with IP forwarding enabled.\"\n",
    "\n",
    "    def config( self, **params ):\n",
    "        super( LinuxRouter, self).config( **params )\n",
    "        # Enable forwarding on the router\n",
    "        self.cmd( 'sysctl net.ipv4.ip_forward=1' )\n",
    "\n",
    "    def terminate( self ):\n",
    "        self.cmd( 'sysctl net.ipv4.ip_forward=0' )\n",
    "        super( LinuxRouter, self ).terminate()"
   ]
  },
  {
   "cell_type": "code",
   "execution_count": 68,
   "metadata": {},
   "outputs": [],
   "source": [
    "class NetworkTopo( Topo ):\n",
    "    \"A LinuxRouter connecting three IP subnets\"\n",
    "    def build( self, **_opts ):\n",
    "        ips_store_with_tail= []\n",
    "        nodes_store_r = []\n",
    "        host_ip = []\n",
    "        nodes_store_h = []\n",
    "        for i in range(len(nodes_store)):\n",
    "            host_ip.append(\"168.0.\" + str(nodes_store[i]+1) + \".2\" + \"/24\" )\n",
    "        \n",
    "        for i in range(len(ips_store)):\n",
    "            ips_store_with_tail.append(ips_store[i] + \"/24\")\n",
    "            \n",
    "        for i in range(len(nodes_store)):\n",
    "            nodes_store_r.append(\"r\" + str(nodes_store[i]))\n",
    "        \n",
    "        for i in range(len(nodes_store)):\n",
    "            nodes_store_h.append(\"h\" + str(nodes_store[i]))\n",
    "        \n",
    "        routers = {}\n",
    "        hosts = {}\n",
    "        for i in range(len(nodes_store)):\n",
    "            routers[nodes_store_r[i]] = self.addNode(nodes_store_r[i], ip = ips_store_with_tail[i], defaultRoute = \"via 10.0.222.10\")\n",
    "            print \"nodes_store_r : \" + nodes_store_r[i] +\"\\nips_store_with_tail : \" + ips_store_with_tail[i] + \"\\n\"\n",
    "            \n",
    "        for i in range(len(nodes_store)):\n",
    "            hosts[nodes_store_h[i]] = self.addHost(nodes_store_h[i], ip = host_ip[i], defaultRoute = \"via \" + ips_store[i])\n",
    "            print \"nodes_store_h : \" + nodes_store_h[i] +\"\\nhost_ip : \" + host_ip[i] + \"\\n\"\n",
    "            \n",
    "        for i in nodes_store:\n",
    "            self.addLink(hosts[\"h\" + str(i)], routers[\"r\" + str(i)], intfName1 = \"h\" + str(i) + \"-eth1\", intfName2 = \"r\" + str(i) + \"-ethh\", params1 = {'ip' : (\"168.0.\" + str(i+1) + \".254/24\")}, params2 = {'ip' : (\"168.0.\" + str(i+1) + \".2/24\")})\n",
    "        \n",
    "        \n",
    "        for a, b in links_store:\n",
    "            A = min(int(a), int(b))\n",
    "            B = max(int(a), int(b))\n",
    "            third_num = (((B % 254)**A) % 254) + 1\n",
    "            self.addLink(routers[\"r\" + str(a)], routers[\"r\" + str(b)], intfName1 = \"r\" + str(a) +\"-eth\" + str(a+b), intfName2 = \"r\" + str(b) +\"-eth\" + str(a+b),  params1={ 'ip' : (\"10.0.\"+ str(third_num) + \".\" + str(int(b)+1) + \"/24\") }, params2={ 'ip' : (\"10.0.\"+ str(third_num) + \".\" + str(int(a)+1) + \"/24\")})\n",
    "        \n",
    "#         for out_node in nodes_store:\n",
    "#             for in_node in nodes_store:\n",
    "#                 if out_node == in_node:\n",
    "#                     print(\"BYEBYE\")\n",
    "#                 else:\n",
    "#                 # 設 out_node routing table des: routing_des\n",
    "                \n",
    "# #                     routing_des = G.nodes[out_node]['IntraTable'][in_node]            \n",
    "# #                     IntraTable_next_hop.append(routing_des)\n",
    "            \n",
    "            \n",
    "            \n",
    "#         defaultIP = '10.0.0.254/16'  # IP address for r0-eth1\n",
    "#         router = self.addNode( 'r0', cls=LinuxRouter, ip=defaultIP )\n",
    "\n",
    "#         h1 = self.addHost( 'h1', ip='10.0.0.253/16', defaultRoute='via 10.0.0.254' )\n",
    "#         h2 = self.addHost( 'h2', ip='10.0.2.10/24', defaultRoute='via 10.0.2.254' )\n",
    "#         h3 = self.addHost( 'h3', ip='10.0.2.15/24', defaultRoute='via 10.0.2.254' )\n",
    "\n",
    "#         s1 = self.addSwitch('s1')\n",
    "\n",
    "#         self.addLink( h1, router, intfName1='h1-eth1', params1={ 'ip' : '10.0.0.253/16' }, intfName2='r0-eth1', params2={ 'ip' : '10.0.0.254/16' } )\n",
    "#         self.addLink( s1, router, intfName2='r0-eth2', params2={ 'ip' : '10.0.2.254/24' } )\n",
    "\n",
    "#         self.addLink(h2, s1)\n",
    "#         self.addLink(h3, s1)"
   ]
  },
  {
   "cell_type": "code",
   "execution_count": 69,
   "metadata": {},
   "outputs": [
    {
     "data": {
      "text/plain": [
       "[0, 3, 9, 26, 64]"
      ]
     },
     "execution_count": 69,
     "metadata": {},
     "output_type": "execute_result"
    }
   ],
   "source": [
    "nodes_store"
   ]
  },
  {
   "cell_type": "code",
   "execution_count": 70,
   "metadata": {},
   "outputs": [
    {
     "data": {
      "text/plain": [
       "[3, 3, 3, 3, 0, 9, 26, 64, 3, 3, 3, 3, 3, 3, 3, 64, 3, 3, 3, 26]"
      ]
     },
     "execution_count": 70,
     "metadata": {},
     "output_type": "execute_result"
    }
   ],
   "source": [
    "IntraTable_store"
   ]
  },
  {
   "cell_type": "code",
   "execution_count": 71,
   "metadata": {},
   "outputs": [
    {
     "name": "stdout",
     "output_type": "stream",
     "text": [
      "ByeBye\n",
      "01ip route add 168.0.4.254/24 via 168.0.4.254\n",
      "02ip route add 168.0.10.254/24 via 168.0.4.254\n",
      "03ip route add 168.0.27.254/24 via 168.0.4.254\n",
      "04ip route add 168.0.65.254/24 via 168.0.4.254\n",
      "10ip route add 168.0.1.254/24 via 168.0.1.254\n",
      "ByeBye\n",
      "12ip route add 168.0.10.254/24 via 168.0.10.254\n",
      "13ip route add 168.0.27.254/24 via 168.0.27.254\n",
      "14ip route add 168.0.65.254/24 via 168.0.65.254\n",
      "20ip route add 168.0.1.254/24 via 168.0.4.254\n",
      "21ip route add 168.0.4.254/24 via 168.0.4.254\n",
      "ByeBye\n",
      "23ip route add 168.0.27.254/24 via 168.0.4.254\n",
      "24ip route add 168.0.65.254/24 via 168.0.4.254\n",
      "30ip route add 168.0.1.254/24 via 168.0.4.254\n",
      "31ip route add 168.0.4.254/24 via 168.0.4.254\n",
      "32ip route add 168.0.10.254/24 via 168.0.4.254\n",
      "ByeBye\n",
      "34ip route add 168.0.65.254/24 via 168.0.65.254\n",
      "40ip route add 168.0.1.254/24 via 168.0.4.254\n",
      "41ip route add 168.0.4.254/24 via 168.0.4.254\n",
      "42ip route add 168.0.10.254/24 via 168.0.4.254\n",
      "43ip route add 168.0.27.254/24 via 168.0.27.254\n",
      "ByeBye\n"
     ]
    }
   ],
   "source": [
    "for i in range(len(nodes_store)):\n",
    "    for j in range(len(nodes_store)):\n",
    "        if i == j:\n",
    "            print(\"ByeBye\")\n",
    "        else :\n",
    "            if j < i :\n",
    "                print str(i)+str(j)+\"ip route add 168.0.\" + str(nodes_store[j]+1) + \".254/24 via \" + \"168.0.\" + str(IntraTable_store[(len(nodes_store)-1)*(i)+j]+1) + \".254\"\n",
    "            if j > i :\n",
    "                print str(i)+str(j)+\"ip route add 168.0.\" + str(nodes_store[j]+1) + \".254/24 via \" + \"168.0.\" + str(IntraTable_store[(len(nodes_store)-1)*(i)+j-1]+1) + \".254\""
   ]
  },
  {
   "cell_type": "code",
   "execution_count": 72,
   "metadata": {},
   "outputs": [],
   "source": [
    "def run():\n",
    "    \"Test linux router\"\n",
    "    topo = NetworkTopo()\n",
    "    net = Mininet( topo=topo )  # controller is used by s1-s3\n",
    "    net.start()\n",
    "    info( '*** Routing Table on Router:\\n' )\n",
    "    for i in range(len(nodes_store)):\n",
    "        for j in range(len(nodes_store)):\n",
    "            if i == j:\n",
    "                gg = 1\n",
    "            else :\n",
    "                if j < i :\n",
    "                    A = min(nodes_store[i], IntraTable_store[(len(nodes_store)-1)*(i)+j])\n",
    "                    B = max(nodes_store[i], IntraTable_store[(len(nodes_store)-1)*(i)+j])\n",
    "                    third_num = (((B % 254)**A) % 254) + 1\n",
    "                    net[\"r\" + str(nodes_store[i])].cmd(\"ip route add 168.0.\" + str(nodes_store[j]+1) + \".0/24 via \" + \"10.0.\" + str(third_num) + \".\" + str(IntraTable_store[(len(nodes_store)-1)*(i)+j] + 1))\n",
    "                    print \"net[\\\"r\\\"\" + str(nodes_store[i]) + \"].cmd(\" + \"ip route add 168.0.\" + str(nodes_store[j]+1) + \".0/24 via \" + \"10.0.\" + str(third_num) + \".\" + str(IntraTable_store[(len(nodes_store)-1)*(i)+j] + 1)\n",
    "                if j > i :\n",
    "                    A = min(nodes_store[i], IntraTable_store[(len(nodes_store)-1)*(i)+j-1])\n",
    "                    B = max(nodes_store[i], IntraTable_store[(len(nodes_store)-1)*(i)+j-1])\n",
    "                    third_num = (((B % 254)**A) % 254) + 1\n",
    "                    net[\"r\" + str(nodes_store[i])].cmd(\"ip route add 168.0.\" + str(nodes_store[j]+1) + \".0/24 via \" + \"10.0.\" + str(third_num) + \".\" + str(IntraTable_store[(len(nodes_store)-1)*(i)+j-1] + 1))\n",
    "                    print \"net[\\\"r\\\"\" + str(nodes_store[i]) + \"].cmd(\" + \"ip route add 168.0.\" + str(nodes_store[j]+1) + \".0/24 via \" + \"10.0.\" + str(third_num) + \".\" + str(IntraTable_store[(len(nodes_store)-1)*(i)+j-1] + 1)\n",
    "\n",
    "    for i in nodes_store:\n",
    "        print \"r\"+str(i)\n",
    "        print net[\"r\"+str(i)].cmd('route')\n",
    "        \n",
    "        \n",
    "    for i in nodes_store:\n",
    "        print \"h\"+str(i)\n",
    "        print net[\"h\"+str(i)].cmd('route')\n",
    "#     net[\"r0\"].cmd(\"ip route add 168.0.4.254/24 via 168.0.4.254\")\n",
    "#     net[ 'r0' ].cmd( 'ip route add 192.168.30.0/24 via 10.0.20.2' )\n",
    "#     print 'r0'\n",
    "#     print net[ 'r0' ].cmd( 'route' )\n",
    "#     print \"\\n\"\n",
    "#     print 'h1'\n",
    "#     print net[ 'h1' ].cmd( 'route' )\n",
    "#     print \"\\n\"\n",
    "#     print 'h2'\n",
    "#     print net[ 'h2' ].cmd( 'route' )\n",
    "#     print \"\\n\"\n",
    "#     print 'h3'\n",
    "#     print net[ 'h3' ].cmd( 'route' )\n",
    "#     print \"\\n\"\n",
    "    CLI( net )\n",
    "    net.stop()"
   ]
  },
  {
   "cell_type": "code",
   "execution_count": 73,
   "metadata": {},
   "outputs": [
    {
     "data": {
      "text/plain": [
       "[('0', '3'), ('3', '9'), ('3', '26'), ('3', '64'), ('26', '64')]"
      ]
     },
     "execution_count": 73,
     "metadata": {},
     "output_type": "execute_result"
    }
   ],
   "source": [
    "links_store"
   ]
  },
  {
   "cell_type": "code",
   "execution_count": 74,
   "metadata": {
    "scrolled": false
   },
   "outputs": [
    {
     "name": "stderr",
     "output_type": "stream",
     "text": [
      "*** Creating network\n",
      "*** Adding controller\n",
      "*** Adding hosts:\n",
      "h0 h3 h9 h26 h64 r0 r3 "
     ]
    },
    {
     "name": "stdout",
     "output_type": "stream",
     "text": [
      "nodes_store_r : r0\n",
      "ips_store_with_tail : 168.0.1.254/24\n",
      "\n",
      "nodes_store_r : r3\n",
      "ips_store_with_tail : 168.0.4.254/24\n",
      "\n",
      "nodes_store_r : r9\n",
      "ips_store_with_tail : 168.0.10.254/24\n",
      "\n",
      "nodes_store_r : r26\n",
      "ips_store_with_tail : 168.0.27.254/24\n",
      "\n",
      "nodes_store_r : r64\n",
      "ips_store_with_tail : 168.0.65.254/24\n",
      "\n",
      "nodes_store_h : h0\n",
      "host_ip : 168.0.1.2/24\n",
      "\n",
      "nodes_store_h : h3\n",
      "host_ip : 168.0.4.2/24\n",
      "\n",
      "nodes_store_h : h9\n",
      "host_ip : 168.0.10.2/24\n",
      "\n",
      "nodes_store_h : h26\n",
      "host_ip : 168.0.27.2/24\n",
      "\n",
      "nodes_store_h : h64\n",
      "host_ip : 168.0.65.2/24\n",
      "\n"
     ]
    },
    {
     "name": "stderr",
     "output_type": "stream",
     "text": [
      "r9 r26 r64 \n",
      "*** Adding switches:\n",
      "\n",
      "*** Adding links:\n",
      "(h0, r0) (h3, r3) (h9, r9) (h26, r26) (h64, r64) (r0, r3) (r3, r9) (r3, r26) (r3, r64) (r26, r64) \n",
      "*** Configuring hosts\n",
      "h0 h3 h9 h26 h64 r0 r3 r9 r26 r64 \n",
      "*** Starting controller\n",
      "c0 \n",
      "*** Starting 0 switches\n",
      "\n",
      "*** Routing Table on Router:\n",
      "*** Starting CLI:\n"
     ]
    },
    {
     "name": "stdout",
     "output_type": "stream",
     "text": [
      "net[\"r\"0].cmd(ip route add 168.0.4.0/24 via 10.0.2.4\n",
      "net[\"r\"0].cmd(ip route add 168.0.10.0/24 via 10.0.2.4\n",
      "net[\"r\"0].cmd(ip route add 168.0.27.0/24 via 10.0.2.4\n",
      "net[\"r\"0].cmd(ip route add 168.0.65.0/24 via 10.0.2.4\n",
      "net[\"r\"3].cmd(ip route add 168.0.1.0/24 via 10.0.2.1\n",
      "net[\"r\"3].cmd(ip route add 168.0.10.0/24 via 10.0.222.10\n",
      "net[\"r\"3].cmd(ip route add 168.0.27.0/24 via 10.0.51.27\n",
      "net[\"r\"3].cmd(ip route add 168.0.65.0/24 via 10.0.17.65\n",
      "net[\"r\"9].cmd(ip route add 168.0.1.0/24 via 10.0.222.4\n",
      "net[\"r\"9].cmd(ip route add 168.0.4.0/24 via 10.0.222.4\n",
      "net[\"r\"9].cmd(ip route add 168.0.27.0/24 via 10.0.222.4\n",
      "net[\"r\"9].cmd(ip route add 168.0.65.0/24 via 10.0.222.4\n",
      "net[\"r\"26].cmd(ip route add 168.0.1.0/24 via 10.0.51.4\n",
      "net[\"r\"26].cmd(ip route add 168.0.4.0/24 via 10.0.51.4\n",
      "net[\"r\"26].cmd(ip route add 168.0.10.0/24 via 10.0.51.4\n",
      "net[\"r\"26].cmd(ip route add 168.0.65.0/24 via 10.0.5.65\n",
      "net[\"r\"64].cmd(ip route add 168.0.1.0/24 via 10.0.17.4\n",
      "net[\"r\"64].cmd(ip route add 168.0.4.0/24 via 10.0.17.4\n",
      "net[\"r\"64].cmd(ip route add 168.0.10.0/24 via 10.0.17.4\n",
      "net[\"r\"64].cmd(ip route add 168.0.27.0/24 via 10.0.5.27\n",
      "r0\n",
      "Kernel IP routing table\n",
      "Destination     Gateway         Genmask         Flags Metric Ref    Use Iface\n",
      "10.0.2.0        *               255.255.255.0   U     0      0        0 r0-eth03\n",
      "168.0.1.0       *               255.255.255.0   U     0      0        0 r0-ethh\n",
      "168.0.4.0       10.0.2.4        255.255.255.0   UG    0      0        0 r0-eth03\n",
      "168.0.10.0      10.0.2.4        255.255.255.0   UG    0      0        0 r0-eth03\n",
      "168.0.27.0      10.0.2.4        255.255.255.0   UG    0      0        0 r0-eth03\n",
      "168.0.65.0      10.0.2.4        255.255.255.0   UG    0      0        0 r0-eth03\n",
      "\n",
      "r3\n",
      "Kernel IP routing table\n",
      "Destination     Gateway         Genmask         Flags Metric Ref    Use Iface\n",
      "10.0.2.0        *               255.255.255.0   U     0      0        0 r3-eth03\n",
      "10.0.17.0       *               255.255.255.0   U     0      0        0 r3-eth364\n",
      "10.0.51.0       *               255.255.255.0   U     0      0        0 r3-eth326\n",
      "10.0.222.0      *               255.255.255.0   U     0      0        0 r3-eth39\n",
      "168.0.1.0       10.0.2.1        255.255.255.0   UG    0      0        0 r3-eth03\n",
      "168.0.4.0       *               255.255.255.0   U     0      0        0 r3-ethh\n",
      "168.0.10.0      10.0.222.10     255.255.255.0   UG    0      0        0 r3-eth39\n",
      "168.0.27.0      10.0.51.27      255.255.255.0   UG    0      0        0 r3-eth326\n",
      "168.0.65.0      10.0.17.65      255.255.255.0   UG    0      0        0 r3-eth364\n",
      "\n",
      "r9\n",
      "Kernel IP routing table\n",
      "Destination     Gateway         Genmask         Flags Metric Ref    Use Iface\n",
      "10.0.222.0      *               255.255.255.0   U     0      0        0 r9-eth39\n",
      "168.0.1.0       10.0.222.4      255.255.255.0   UG    0      0        0 r9-eth39\n",
      "168.0.4.0       10.0.222.4      255.255.255.0   UG    0      0        0 r9-eth39\n",
      "168.0.10.0      *               255.255.255.0   U     0      0        0 r9-ethh\n",
      "168.0.27.0      10.0.222.4      255.255.255.0   UG    0      0        0 r9-eth39\n",
      "168.0.65.0      10.0.222.4      255.255.255.0   UG    0      0        0 r9-eth39\n",
      "\n",
      "r26\n",
      "Kernel IP routing table\n",
      "Destination     Gateway         Genmask         Flags Metric Ref    Use Iface\n",
      "10.0.5.0        *               255.255.255.0   U     0      0        0 r26-eth2664\n",
      "10.0.51.0       *               255.255.255.0   U     0      0        0 r26-eth326\n",
      "168.0.1.0       10.0.51.4       255.255.255.0   UG    0      0        0 r26-eth326\n",
      "168.0.4.0       10.0.51.4       255.255.255.0   UG    0      0        0 r26-eth326\n",
      "168.0.10.0      10.0.51.4       255.255.255.0   UG    0      0        0 r26-eth326\n",
      "168.0.27.0      *               255.255.255.0   U     0      0        0 r26-ethh\n",
      "168.0.65.0      10.0.5.65       255.255.255.0   UG    0      0        0 r26-eth2664\n",
      "\n",
      "r64\n",
      "Kernel IP routing table\n",
      "Destination     Gateway         Genmask         Flags Metric Ref    Use Iface\n",
      "10.0.5.0        *               255.255.255.0   U     0      0        0 r64-eth2664\n",
      "10.0.17.0       *               255.255.255.0   U     0      0        0 r64-eth364\n",
      "168.0.1.0       10.0.17.4       255.255.255.0   UG    0      0        0 r64-eth364\n",
      "168.0.4.0       10.0.17.4       255.255.255.0   UG    0      0        0 r64-eth364\n",
      "168.0.10.0      10.0.17.4       255.255.255.0   UG    0      0        0 r64-eth364\n",
      "168.0.27.0      10.0.5.27       255.255.255.0   UG    0      0        0 r64-eth2664\n",
      "168.0.65.0      *               255.255.255.0   U     0      0        0 r64-ethh\n",
      "\n",
      "h0\n",
      "Kernel IP routing table\n",
      "Destination     Gateway         Genmask         Flags Metric Ref    Use Iface\n",
      "default         168.0.1.254     0.0.0.0         UG    0      0        0 h0-eth1\n",
      "168.0.1.0       *               255.255.255.0   U     0      0        0 h0-eth1\n",
      "\n",
      "h3\n",
      "Kernel IP routing table\n",
      "Destination     Gateway         Genmask         Flags Metric Ref    Use Iface\n",
      "default         168.0.4.254     0.0.0.0         UG    0      0        0 h3-eth1\n",
      "168.0.4.0       *               255.255.255.0   U     0      0        0 h3-eth1\n",
      "\n",
      "h9\n",
      "Kernel IP routing table\n",
      "Destination     Gateway         Genmask         Flags Metric Ref    Use Iface\n",
      "default         168.0.10.254    0.0.0.0         UG    0      0        0 h9-eth1\n",
      "168.0.10.0      *               255.255.255.0   U     0      0        0 h9-eth1\n",
      "\n",
      "h26\n",
      "Kernel IP routing table\n",
      "Destination     Gateway         Genmask         Flags Metric Ref    Use Iface\n",
      "default         168.0.27.254    0.0.0.0         UG    0      0        0 h26-eth1\n",
      "168.0.27.0      *               255.255.255.0   U     0      0        0 h26-eth1\n",
      "\n",
      "h64\n",
      "Kernel IP routing table\n",
      "Destination     Gateway         Genmask         Flags Metric Ref    Use Iface\n",
      "default         168.0.65.254    0.0.0.0         UG    0      0        0 h64-eth1\n",
      "168.0.65.0      *               255.255.255.0   U     0      0        0 h64-eth1\n",
      "\n",
      "mininet> r0 ping -c1 r3\n"
     ]
    },
    {
     "name": "stderr",
     "output_type": "stream",
     "text": [
      "PING 168.0.4.254 (168.0.4.254) 56(84) bytes of data.\n",
      "64 bytes from 168.0.4.254: icmp_seq=1 ttl=64 time=0.088 ms\n",
      "\n",
      "--- 168.0.4.254 ping statistics ---\n",
      "1 packets transmitted, 1 received, 0% packet loss, time 0ms\n",
      "rtt min/avg/max/mdev = 0.088/0.088/0.088/0.000 ms\n"
     ]
    },
    {
     "name": "stdout",
     "output_type": "stream",
     "text": [
      "mininet> pingall\n"
     ]
    },
    {
     "name": "stderr",
     "output_type": "stream",
     "text": [
      "*** Ping: testing ping reachability\n",
      "h0 -> \n",
      "Interrupt\n",
      "stopping h0 \n"
     ]
    },
    {
     "name": "stdout",
     "output_type": "stream",
     "text": [
      "mininet> r3 ping -c1 r0\n"
     ]
    },
    {
     "name": "stderr",
     "output_type": "stream",
     "text": [
      "PING 168.0.1.254 (168.0.1.254) 56(84) bytes of data.\n",
      "64 bytes from 168.0.1.254: icmp_seq=1 ttl=64 time=0.090 ms\n",
      "\n",
      "--- 168.0.1.254 ping statistics ---\n",
      "1 packets transmitted, 1 received, 0% packet loss, time 0ms\n",
      "rtt min/avg/max/mdev = 0.090/0.090/0.090/0.000 ms\n"
     ]
    },
    {
     "name": "stdout",
     "output_type": "stream",
     "text": [
      "mininet> r3 ping -c1 r26\n"
     ]
    },
    {
     "name": "stderr",
     "output_type": "stream",
     "text": [
      "PING 168.0.27.254 (168.0.27.254) 56(84) bytes of data.\n",
      "64 bytes from 168.0.27.254: icmp_seq=1 ttl=64 time=0.091 ms\n",
      "\n",
      "--- 168.0.27.254 ping statistics ---\n",
      "1 packets transmitted, 1 received, 0% packet loss, time 0ms\n",
      "rtt min/avg/max/mdev = 0.091/0.091/0.091/0.000 ms\n"
     ]
    },
    {
     "name": "stdout",
     "output_type": "stream",
     "text": [
      "mininet> r3 ping -c1 r9\n"
     ]
    },
    {
     "name": "stderr",
     "output_type": "stream",
     "text": [
      "PING 168.0.10.254 (168.0.10.254) 56(84) bytes of data.\n",
      "64 bytes from 168.0.10.254: icmp_seq=1 ttl=64 time=0.085 ms\n",
      "\n",
      "--- 168.0.10.254 ping statistics ---\n",
      "1 packets transmitted, 1 received, 0% packet loss, time 0ms\n",
      "rtt min/avg/max/mdev = 0.085/0.085/0.085/0.000 ms\n"
     ]
    },
    {
     "name": "stdout",
     "output_type": "stream",
     "text": [
      "mininet> r3 ping -c1 r26\n"
     ]
    },
    {
     "name": "stderr",
     "output_type": "stream",
     "text": [
      "PING 168.0.27.254 (168.0.27.254) 56(84) bytes of data.\n",
      "64 bytes from 168.0.27.254: icmp_seq=1 ttl=64 time=0.067 ms\n",
      "\n",
      "--- 168.0.27.254 ping statistics ---\n",
      "1 packets transmitted, 1 received, 0% packet loss, time 0ms\n",
      "rtt min/avg/max/mdev = 0.067/0.067/0.067/0.000 ms\n"
     ]
    },
    {
     "name": "stdout",
     "output_type": "stream",
     "text": [
      "mininet> r3 ping -c1 r64\n"
     ]
    },
    {
     "name": "stderr",
     "output_type": "stream",
     "text": [
      "PING 168.0.65.254 (168.0.65.254) 56(84) bytes of data.\n",
      "64 bytes from 168.0.65.254: icmp_seq=1 ttl=64 time=0.099 ms\n",
      "\n",
      "--- 168.0.65.254 ping statistics ---\n",
      "1 packets transmitted, 1 received, 0% packet loss, time 0ms\n",
      "rtt min/avg/max/mdev = 0.099/0.099/0.099/0.000 ms\n"
     ]
    },
    {
     "name": "stdout",
     "output_type": "stream",
     "text": [
      "mininet> r0 ping -c1 r9\n"
     ]
    },
    {
     "name": "stderr",
     "output_type": "stream",
     "text": [
      "PING 168.0.10.254 (168.0.10.254) 56(84) bytes of data.\n",
      "From 10.0.2.4 icmp_seq=1 Destination Host Unreachable\n",
      "\n",
      "--- 168.0.10.254 ping statistics ---\n",
      "1 packets transmitted, 0 received, +1 errors, 100% packet loss, time 0ms\n",
      "\n"
     ]
    },
    {
     "name": "stdout",
     "output_type": "stream",
     "text": [
      "mininet> r3 ping -c1 r9\n"
     ]
    },
    {
     "name": "stderr",
     "output_type": "stream",
     "text": [
      "PING 168.0.10.254 (168.0.10.254) 56(84) bytes of data.\n",
      "64 bytes from 168.0.10.254: icmp_seq=1 ttl=64 time=0.099 ms\n",
      "\n",
      "--- 168.0.10.254 ping statistics ---\n",
      "1 packets transmitted, 1 received, 0% packet loss, time 0ms\n",
      "rtt min/avg/max/mdev = 0.099/0.099/0.099/0.000 ms\n"
     ]
    },
    {
     "name": "stdout",
     "output_type": "stream",
     "text": [
      "mininet> r0 ping -c1 r3\n"
     ]
    },
    {
     "name": "stderr",
     "output_type": "stream",
     "text": [
      "PING 168.0.4.254 (168.0.4.254) 56(84) bytes of data.\n",
      "64 bytes from 168.0.4.254: icmp_seq=1 ttl=64 time=0.064 ms\n",
      "\n",
      "--- 168.0.4.254 ping statistics ---\n",
      "1 packets transmitted, 1 received, 0% packet loss, time 0ms\n",
      "rtt min/avg/max/mdev = 0.064/0.064/0.064/0.000 ms\n"
     ]
    },
    {
     "name": "stdout",
     "output_type": "stream",
     "text": [
      "mininet> r0 ping -c1 r9\n"
     ]
    },
    {
     "name": "stderr",
     "output_type": "stream",
     "text": [
      "PING 168.0.10.254 (168.0.10.254) 56(84) bytes of data.\n",
      "From 10.0.2.4 icmp_seq=1 Destination Host Unreachable\n",
      "\n",
      "--- 168.0.10.254 ping statistics ---\n",
      "1 packets transmitted, 0 received, +1 errors, 100% packet loss, time 0ms\n",
      "\n"
     ]
    },
    {
     "name": "stdout",
     "output_type": "stream",
     "text": [
      "mininet> r0 ping -c1 h9\n"
     ]
    },
    {
     "name": "stderr",
     "output_type": "stream",
     "text": [
      "PING 168.0.10.2 (168.0.10.2) 56(84) bytes of data.\n",
      "From 10.0.2.4 icmp_seq=1 Destination Host Unreachable\n",
      "\n",
      "--- 168.0.10.2 ping statistics ---\n",
      "1 packets transmitted, 0 received, +1 errors, 100% packet loss, time 0ms\n",
      "\n"
     ]
    },
    {
     "name": "stdout",
     "output_type": "stream",
     "text": [
      "mininet> exit\n"
     ]
    },
    {
     "name": "stderr",
     "output_type": "stream",
     "text": [
      "*** Stopping 1 controllers\n",
      "c0 \n",
      "*** Stopping 10 links\n",
      "..........\n",
      "*** Stopping 0 switches\n",
      "\n",
      "*** Stopping 10 hosts\n",
      "h0 h3 h9 h26 h64 r0 r3 r9 r26 r64 \n",
      "*** Done\n"
     ]
    }
   ],
   "source": [
    "if __name__ == '__main__':\n",
    "    setLogLevel( 'info' )\n",
    "    run()"
   ]
  },
  {
   "cell_type": "code",
   "execution_count": null,
   "metadata": {},
   "outputs": [],
   "source": []
  },
  {
   "cell_type": "code",
   "execution_count": null,
   "metadata": {},
   "outputs": [],
   "source": []
  },
  {
   "cell_type": "code",
   "execution_count": null,
   "metadata": {},
   "outputs": [],
   "source": []
  },
  {
   "cell_type": "code",
   "execution_count": null,
   "metadata": {},
   "outputs": [],
   "source": []
  },
  {
   "cell_type": "code",
   "execution_count": null,
   "metadata": {},
   "outputs": [],
   "source": []
  }
 ],
 "metadata": {
  "kernelspec": {
   "display_name": "Python 2",
   "language": "python",
   "name": "python2"
  },
  "language_info": {
   "codemirror_mode": {
    "name": "ipython",
    "version": 2
   },
   "file_extension": ".py",
   "mimetype": "text/x-python",
   "name": "python",
   "nbconvert_exporter": "python",
   "pygments_lexer": "ipython2",
   "version": "2.7.12"
  }
 },
 "nbformat": 4,
 "nbformat_minor": 2
}
