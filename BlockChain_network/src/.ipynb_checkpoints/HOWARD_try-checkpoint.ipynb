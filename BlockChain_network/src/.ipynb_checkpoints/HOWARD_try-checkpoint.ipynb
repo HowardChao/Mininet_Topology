{
 "cells": [
  {
   "cell_type": "code",
   "execution_count": 36,
   "metadata": {},
   "outputs": [
    {
     "ename": "ImportError",
     "evalue": "No module named 'mininet'",
     "output_type": "error",
     "traceback": [
      "\u001b[0;31m---------------------------------------------------------------------------\u001b[0m",
      "\u001b[0;31mImportError\u001b[0m                               Traceback (most recent call last)",
      "\u001b[0;32m<ipython-input-36-3fe48ce7e26c>\u001b[0m in \u001b[0;36m<module>\u001b[0;34m()\u001b[0m\n\u001b[0;32m----> 1\u001b[0;31m \u001b[0;32mfrom\u001b[0m \u001b[0mmininet\u001b[0m\u001b[0;34m.\u001b[0m\u001b[0mtopo\u001b[0m \u001b[0;32mimport\u001b[0m \u001b[0mTopo\u001b[0m\u001b[0;34m\u001b[0m\u001b[0m\n\u001b[0m\u001b[1;32m      2\u001b[0m \u001b[0;32mfrom\u001b[0m \u001b[0mmininet\u001b[0m\u001b[0;34m.\u001b[0m\u001b[0mnet\u001b[0m \u001b[0;32mimport\u001b[0m \u001b[0mMininet\u001b[0m\u001b[0;34m\u001b[0m\u001b[0m\n\u001b[1;32m      3\u001b[0m \u001b[0;32mfrom\u001b[0m \u001b[0mmininet\u001b[0m\u001b[0;34m.\u001b[0m\u001b[0mnode\u001b[0m \u001b[0;32mimport\u001b[0m \u001b[0mNode\u001b[0m\u001b[0;34m\u001b[0m\u001b[0m\n\u001b[1;32m      4\u001b[0m \u001b[0;32mfrom\u001b[0m \u001b[0mmininet\u001b[0m\u001b[0;34m.\u001b[0m\u001b[0mlog\u001b[0m \u001b[0;32mimport\u001b[0m \u001b[0msetLogLevel\u001b[0m\u001b[0;34m,\u001b[0m \u001b[0minfo\u001b[0m\u001b[0;34m\u001b[0m\u001b[0m\n\u001b[1;32m      5\u001b[0m \u001b[0;32mfrom\u001b[0m \u001b[0mmininet\u001b[0m\u001b[0;34m.\u001b[0m\u001b[0mcli\u001b[0m \u001b[0;32mimport\u001b[0m \u001b[0mCLI\u001b[0m\u001b[0;34m\u001b[0m\u001b[0m\n",
      "\u001b[0;31mImportError\u001b[0m: No module named 'mininet'"
     ]
    }
   ],
   "source": [
    "import TableSetup2 as tbl\n",
    "import networkx as nx \n",
    "import numpy as np"
   ]
  },
  {
   "cell_type": "code",
   "execution_count": 39,
   "metadata": {},
   "outputs": [
    {
     "name": "stdout",
     "output_type": "stream",
     "text": [
      "IntraTable have constructed\n",
      "InterTable have constructed\n",
      "****** Creating all route for every router\n"
     ]
    }
   ],
   "source": [
    "G = nx.Graph()\n",
    "tbl.TableSetup(G, '2018-5-30-302nodes_links.csv')\n",
    "print(\"****** Creating all route for every router\")\n",
    "#print(list(G.edges))\n",
    "links = list(G.edges)"
   ]
  },
  {
   "cell_type": "code",
   "execution_count": 71,
   "metadata": {},
   "outputs": [],
   "source": [
    "links_select = []"
   ]
  },
  {
   "cell_type": "code",
   "execution_count": 72,
   "metadata": {},
   "outputs": [],
   "source": [
    "for a,b in links:\n",
    "    if G.nodes[a]['AS_N'] == 0 and G.nodes[b]['AS_N'] == 0:\n",
    "        links_select.append((a,b))"
   ]
  },
  {
   "cell_type": "code",
   "execution_count": 73,
   "metadata": {},
   "outputs": [
    {
     "data": {
      "text/plain": [
       "[]"
      ]
     },
     "execution_count": 73,
     "metadata": {},
     "output_type": "execute_result"
    }
   ],
   "source": [
    "links"
   ]
  },
  {
   "cell_type": "code",
   "execution_count": 41,
   "metadata": {},
   "outputs": [],
   "source": [
    "same_as = []"
   ]
  },
  {
   "cell_type": "code",
   "execution_count": 44,
   "metadata": {},
   "outputs": [],
   "source": [
    "for node in range(len(G.nodes)):\n",
    "    if G.nodes[node]['AS_N'] == 0 :\n",
    "        same_as.append(node)\n",
    "#     G.nodes[node]['ip'] = \"168.\"+ str(G.nodes[node]['AS_N']) + \".\" + str(node+1) + \".254\""
   ]
  },
  {
   "cell_type": "code",
   "execution_count": 45,
   "metadata": {},
   "outputs": [
    {
     "data": {
      "text/plain": [
       "[0, 3, 9, 26, 64]"
      ]
     },
     "execution_count": 45,
     "metadata": {},
     "output_type": "execute_result"
    }
   ],
   "source": [
    "same_as"
   ]
  },
  {
   "cell_type": "code",
   "execution_count": 46,
   "metadata": {},
   "outputs": [],
   "source": [
    "for node in same_as:\n",
    "    G.nodes[node]['ip'] = \"168.\"+ str(G.nodes[node]['AS_N']) + \".\" + str(node+1) + \".254\""
   ]
  },
  {
   "cell_type": "code",
   "execution_count": 59,
   "metadata": {},
   "outputs": [],
   "source": [
    "ip_list = []"
   ]
  },
  {
   "cell_type": "code",
   "execution_count": 60,
   "metadata": {},
   "outputs": [
    {
     "name": "stdout",
     "output_type": "stream",
     "text": [
      "168.0.1.254\n",
      "168.0.4.254\n",
      "168.0.10.254\n",
      "168.0.27.254\n",
      "168.0.65.254\n"
     ]
    }
   ],
   "source": [
    "for node in same_as:\n",
    "    ip_list.append(G.nodes[node]['ip'])\n",
    "    print(G.nodes[node]['ip'])"
   ]
  },
  {
   "cell_type": "code",
   "execution_count": 48,
   "metadata": {},
   "outputs": [],
   "source": [
    "IntraTable_next_hop = []"
   ]
  },
  {
   "cell_type": "code",
   "execution_count": 49,
   "metadata": {},
   "outputs": [
    {
     "name": "stdout",
     "output_type": "stream",
     "text": [
      "BYEBYE\n",
      "BYEBYE\n",
      "BYEBYE\n",
      "BYEBYE\n",
      "BYEBYE\n"
     ]
    }
   ],
   "source": [
    "for out_node in same_as:\n",
    "    for in_node in same_as:\n",
    "        if out_node == in_node:\n",
    "            print(\"BYEBYE\")\n",
    "        else:\n",
    "            # 設 out_node routing table des: routing_des\n",
    "            routing_des = G.nodes[out_node]['IntraTable'][in_node]            \n",
    "            IntraTable_next_hop.append(routing_des)"
   ]
  },
  {
   "cell_type": "code",
   "execution_count": 50,
   "metadata": {},
   "outputs": [
    {
     "data": {
      "text/plain": [
       "[3, 3, 3, 3, 0, 9, 26, 64, 3, 3, 3, 3, 3, 3, 3, 64, 3, 3, 3, 26]"
      ]
     },
     "execution_count": 50,
     "metadata": {},
     "output_type": "execute_result"
    }
   ],
   "source": [
    "IntraTable_next_hop"
   ]
  },
  {
   "cell_type": "code",
   "execution_count": 54,
   "metadata": {},
   "outputs": [],
   "source": [
    "with open('links.txt', 'a') as the_file:\n",
    "    for item in links:\n",
    "        the_file.write(\"%s\\n\" % str(item))\n",
    "#     the_file.write(links)\n",
    "#     the_file.write(same_as)\n",
    "#     the_file.write(G.nodes[node]['ip'])\n",
    "#     the_file.write(IntraTable_next_hop)"
   ]
  },
  {
   "cell_type": "code",
   "execution_count": 55,
   "metadata": {},
   "outputs": [
    {
     "data": {
      "text/plain": [
       "[0, 3, 9, 26, 64]"
      ]
     },
     "execution_count": 55,
     "metadata": {},
     "output_type": "execute_result"
    }
   ],
   "source": [
    "same_as"
   ]
  },
  {
   "cell_type": "code",
   "execution_count": 56,
   "metadata": {},
   "outputs": [],
   "source": [
    "with open('nodes.txt', 'a') as the_file:\n",
    "    for item in same_as:\n",
    "        the_file.write(\"%s\\n\" % str(item))"
   ]
  },
  {
   "cell_type": "code",
   "execution_count": 63,
   "metadata": {},
   "outputs": [],
   "source": [
    "with open('ips.txt', 'a') as the_file:\n",
    "    for item in ip_list:\n",
    "        the_file.write(\"%s\\n\" % str(item))"
   ]
  },
  {
   "cell_type": "code",
   "execution_count": 64,
   "metadata": {},
   "outputs": [],
   "source": [
    "with open('IntraTable_next_hop.txt', 'a') as the_file:\n",
    "    for item in IntraTable_next_hop:\n",
    "        the_file.write(\"%s\\n\" % str(item))"
   ]
  },
  {
   "cell_type": "code",
   "execution_count": null,
   "metadata": {},
   "outputs": [],
   "source": []
  }
 ],
 "metadata": {
  "kernelspec": {
   "display_name": "Python 3",
   "language": "python",
   "name": "python3"
  },
  "language_info": {
   "codemirror_mode": {
    "name": "ipython",
    "version": 3
   },
   "file_extension": ".py",
   "mimetype": "text/x-python",
   "name": "python",
   "nbconvert_exporter": "python",
   "pygments_lexer": "ipython3",
   "version": "3.5.2"
  }
 },
 "nbformat": 4,
 "nbformat_minor": 2
}
