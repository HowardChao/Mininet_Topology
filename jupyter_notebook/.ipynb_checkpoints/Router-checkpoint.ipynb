{
 "cells": [
  {
   "cell_type": "code",
   "execution_count": 11,
   "metadata": {},
   "outputs": [],
   "source": [
    "from mininet.topo import Topo\n",
    "from mininet.net import Mininet\n",
    "from mininet.node import Node\n",
    "from mininet.log import setLogLevel, info\n",
    "from mininet.cli import CLI"
   ]
  },
  {
   "cell_type": "code",
   "execution_count": 12,
   "metadata": {},
   "outputs": [],
   "source": [
    "class LinuxRouter( Node ):\n",
    "    \"A Node with IP forwarding enabled.\"\n",
    "\n",
    "    def config( self, **params ):\n",
    "        super( LinuxRouter, self).config( **params )\n",
    "        # Enable forwarding on the router\n",
    "        self.cmd( 'sysctl net.ipv4.ip_forward=1' )\n",
    "\n",
    "    def terminate( self ):\n",
    "        self.cmd( 'sysctl net.ipv4.ip_forward=0' )\n",
    "        super( LinuxRouter, self ).terminate()"
   ]
  },
  {
   "cell_type": "code",
   "execution_count": 13,
   "metadata": {},
   "outputs": [],
   "source": [
    "class NetworkTopo( Topo ):\n",
    "    \"A LinuxRouter connecting three IP subnets\"\n",
    "\n",
    "    def build( self, **_opts ):\n",
    "\n",
    "        defaultIP = '10.0.0.254/16'  # IP address for r0-eth1\n",
    "        router = self.addNode( 'r0', cls=LinuxRouter, ip=defaultIP )\n",
    "\n",
    "        h1 = self.addHost( 'h1', ip='10.0.0.253/16', defaultRoute='via 10.0.0.254' )\n",
    "        h2 = self.addHost( 'h2', ip='10.0.2.10/24', defaultRoute='via 10.0.2.254' )\n",
    "        h3 = self.addHost( 'h3', ip='10.0.2.15/24', defaultRoute='via 10.0.2.254' )\n",
    "\n",
    "        s1 = self.addSwitch('s1')\n",
    "\n",
    "        self.addLink( h1, router, intfName1='h1-eth1', params1={ 'ip' : '10.0.0.253/16' }, intfName2='r0-eth1', params2={ 'ip' : '10.0.0.254/16' } )\n",
    "        self.addLink( s1, router, intfName2='r0-eth2', params2={ 'ip' : '10.0.2.254/24' } )\n",
    "\n",
    "        self.addLink(h2, s1)\n",
    "        self.addLink(h3, s1)"
   ]
  },
  {
   "cell_type": "code",
   "execution_count": 14,
   "metadata": {},
   "outputs": [],
   "source": [
    "def run():\n",
    "    \"Test linux router\"\n",
    "    topo = NetworkTopo()\n",
    "    net = Mininet( topo=topo )  # controller is used by s1-s3\n",
    "    net.start()\n",
    "    info( '*** Routing Table on Router:\\n' )\n",
    "    print 'r0'\n",
    "    print net[ 'r0' ].cmd( 'route' )\n",
    "    print \"\\n\"\n",
    "    print 'h1'\n",
    "    print net[ 'h1' ].cmd( 'route' )\n",
    "    print \"\\n\"\n",
    "    print 'h2'\n",
    "    print net[ 'h2' ].cmd( 'route' )\n",
    "    print \"\\n\"\n",
    "    print 'h3'\n",
    "    print net[ 'h3' ].cmd( 'route' )\n",
    "    print \"\\n\"\n",
    "    CLI( net )\n",
    "    net.stop()"
   ]
  },
  {
   "cell_type": "code",
   "execution_count": null,
   "metadata": {
    "scrolled": false
   },
   "outputs": [
    {
     "name": "stderr",
     "output_type": "stream",
     "text": [
      "*** Creating network\n",
      "*** Adding controller\n",
      "*** Adding hosts:\n",
      "h1 h2 h3 r0 \n",
      "*** Adding switches:\n",
      "s1 \n",
      "*** Adding links:\n",
      "(h1, r0) (h2, s1) (h3, s1) (s1, r0) \n",
      "*** Configuring hosts\n",
      "h1 h2 h3 r0 \n",
      "*** Starting controller\n",
      "c0 \n",
      "*** Starting 1 switches\n",
      "s1 ...\n",
      "*** Routing Table on Router:\n",
      "*** Starting CLI:\n"
     ]
    },
    {
     "name": "stdout",
     "output_type": "stream",
     "text": [
      "Kernel IP routing table\n",
      "Destination     Gateway         Genmask         Flags Metric Ref    Use Iface\n",
      "10.0.0.0        *               255.255.0.0     U     0      0        0 r0-eth1\n",
      "10.0.2.0        *               255.255.255.0   U     0      0        0 r0-eth2\n",
      "\n",
      "mininet> pingall\n"
     ]
    },
    {
     "name": "stderr",
     "output_type": "stream",
     "text": [
      "*** Ping: testing ping reachability\n",
      "h1 -> X X r0 \n",
      "h2 -> X h3 r0 \n",
      "h3 -> X h2 r0 \n",
      "r0 -> h1 h2 h3 \n",
      "*** Results: 33% dropped (8/12 received)\n"
     ]
    },
    {
     "name": "stdout",
     "output_type": "stream",
     "text": [
      "mininet> \n"
     ]
    }
   ],
   "source": [
    "if __name__ == '__main__':\n",
    "    setLogLevel( 'info' )\n",
    "    run()"
   ]
  },
  {
   "cell_type": "markdown",
   "metadata": {},
   "source": [
    "http://recolog.blogspot.tw/2016/02/emulating-networks-with-routers-using.html"
   ]
  },
  {
   "cell_type": "code",
   "execution_count": null,
   "metadata": {},
   "outputs": [],
   "source": []
  }
 ],
 "metadata": {
  "kernelspec": {
   "display_name": "Python 2",
   "language": "python",
   "name": "python2"
  },
  "language_info": {
   "codemirror_mode": {
    "name": "ipython",
    "version": 2
   },
   "file_extension": ".py",
   "mimetype": "text/x-python",
   "name": "python",
   "nbconvert_exporter": "python",
   "pygments_lexer": "ipython2",
   "version": "2.7.12"
  }
 },
 "nbformat": 4,
 "nbformat_minor": 2
}
