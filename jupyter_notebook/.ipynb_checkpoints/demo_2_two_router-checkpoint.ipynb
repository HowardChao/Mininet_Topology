{
 "cells": [
  {
   "cell_type": "code",
   "execution_count": 10,
   "metadata": {},
   "outputs": [],
   "source": [
    "from mininet.topo import Topo\n",
    "from mininet.net import Mininet\n",
    "from mininet.node import Node\n",
    "from mininet.log import setLogLevel, info\n",
    "from mininet.cli import CLI"
   ]
  },
  {
   "cell_type": "code",
   "execution_count": 11,
   "metadata": {},
   "outputs": [],
   "source": [
    "class LinuxRouter( Node ):\n",
    "    \"A Node with IP forwarding enabled.\"\n",
    "\n",
    "    def config( self, **params ):\n",
    "        super( LinuxRouter, self).config( **params )\n",
    "        # Enable forwarding on the router\n",
    "        self.cmd( 'sysctl net.ipv4.ip_forward=1' )\n",
    "\n",
    "    def terminate( self ):\n",
    "        self.cmd( 'sysctl net.ipv4.ip_forward=0' )\n",
    "        super( LinuxRouter, self ).terminate()"
   ]
  },
  {
   "cell_type": "code",
   "execution_count": 12,
   "metadata": {},
   "outputs": [],
   "source": [
    "class NetworkTopo( Topo ):\n",
    "    \"A LinuxRouter connecting three IP subnets\"\n",
    "\n",
    "    def build( self, **_opts ):\n",
    "\n",
    "        rout_defaultIP = '140.0.0.253/8'\n",
    "        r0_defaultIP = '140.0.0.254/8'  # IP address for r0-eth1\n",
    "        r1_defaultIP = '140.111.0.254/16'  # IP address for r0-eth1\n",
    "\n",
    "        h1_defaultIP = '140.111.0.1/16'\n",
    "#         h2_defaultIP = '140.112.0.1/16'\n",
    "#         h3_defaultIP = '140.112.17.10/24'\n",
    "#         h4_defaultIP = '140.112.25.1/24'\n",
    "#         h5_defaultIP = '140.113.0.1/16'\n",
    "#         h5_defaultIP = '10.0.5.100/24'\n",
    "#         h6_defaultIP = '10.0.6.100/24'\n",
    "        \n",
    "#         h3_defaultIP = '10.0.1.2/24'\n",
    "#         router_out = self.addNode( 'rout', cls=LinuxRouter, ip=rout_defaultIP, defaultRoute='via 140.0.0.254')\n",
    "        router_0 = self.addNode( 'r0', cls=LinuxRouter, ip=r0_defaultIP, defaultRoute='via 140.0.0.253' )\n",
    "        router_1 = self.addNode( 'r1', cls=LinuxRouter, ip=r1_defaultIP, defaultRoute='via 140.0.0.254' )\n",
    "        h1 = self.addHost('h1', ip=h1_defaultIP, defaultRoute='via 140.111.0.254')\n",
    "#         router_3 = self.addNode( 'r3', cls=LinuxRouter, ip=r3_defaultIP, defaultRoute='via 140.113.0.253' )\n",
    "#         router_4 = self.addNode( 'r4', cls=LinuxRouter, ip=r4_defaultIP, inf='r4-eth0', defaultRoute='via 140.0.0.254' )\n",
    "#         router_5 = self.addNode( 'r5', cls=LinuxRouter, ip=r5_defaultIP, inf='r5-eth0', defaultRoute='via 140.112.0.254' )\n",
    "#         router_6 = self.addNode( 'r6', cls=LinuxRouter, ip=r6_defaultIP, inf='r6-eth0', defaultRoute='via 140.112.0.254' )\n",
    "#         router_7 = self.addNode( 'r7', cls=LinuxRouter, ip=r7_defaultIP, inf='r7-eth0', defaultRoute='via 140.112.0.254' )\n",
    "\n",
    "        \n",
    "        self.addLink( router_1, router_0, intfName1='r1-eth1', intfName2='r0-eth2', params1={ 'ip' : '140.111.0.254/16' }, params2={ 'ip' : '140.0.0.253/8' } )\n",
    "        self.addLink( h1, router_1, intfName1='h1-eth1', intfName2='r1-eth2', params1={ 'ip' : '140.111.0.1/16' }, params2={ 'ip' : '140.111.0.254/16' } )\n",
    "#         self.addLink( router_3, router_0, intfName1='r3-eth1', intfName2='r0-eth4', params1={ 'ip' : '140.113.0.254/16' }, params2={ 'ip' : '140.113.0.253/16' } )\n",
    "#         self.addLink( router_2, router_4, intfName1='r2-eth2', intfName2='r4-eth1', params1={ 'ip' : '140.112.17.253/24' }, params2={ 'ip' : '140.112.17.254/24' } )\n",
    "#         self.addLink( router_2, router_5, intfName1='r2-eth3', intfName2='r5-eth1', params1={ 'ip' : '140.112.25.253/24' }, params2={ 'ip' : '140.112.25.254/24' } )"
   ]
  },
  {
   "cell_type": "code",
   "execution_count": 13,
   "metadata": {},
   "outputs": [],
   "source": [
    "def run():\n",
    "    \"Test linux router\"\n",
    "    topo = NetworkTopo()\n",
    "    net = Mininet( topo=topo )  # controller is used by s1-s3\n",
    "    net.start()\n",
    "    info( '*** Routing Table on Router:\\n' )\n",
    "#     net[ 'r0' ].cmd( 'ip route add 140.112.17.0/24 via 140.112.17.253' )\n",
    "#     net[ 'r0' ].cmd( 'ip route add 140.112.25.0/24 via 140.112.25.253' )\n",
    "#     net[ 'rout' ].cmd( 'ip route add 140.111.0.254/16 via 140.111.0.253' )\n",
    "#     net[ 'rout' ].cmd( 'ip route add 140.112.0.254/16 via 140.112.0.253' )\n",
    "#     net[ 'rout' ].cmd( 'ip route add 140.113.0.254/16 via 140.113.0.253' )\n",
    "#     net[ 'rout' ].cmd( 'ip route add 140.112.17.254/16 via 140.112.0.253' )\n",
    "#     net[ 'rout' ].cmd( 'ip route add 140.112.25.254/16 via 140.112.0.253' )\n",
    "    print \"r0\"\n",
    "    print net[ 'r0' ].cmd( 'route' )\n",
    "    print \"r1\"\n",
    "    print net[ 'r1' ].cmd( 'route' )\n",
    "    print \"h1\"\n",
    "    print net[ 'h1' ].cmd( 'route' )\n",
    "\n",
    "#     print \"h3\"\n",
    "#     print net[ 'h3' ].cmd( 'route' )\n",
    "#     print net[ 'h1' ].cmd( 'route' )\n",
    "#     print net[ 'h2' ].cmd( 'route' )\n",
    "#     print net[ 'h3' ].cmd( 'route' )\n",
    "#     print net[ 'h4' ].cmd( 'route' )\n",
    "#     print net[ 'h5' ].cmd( 'route' )\n",
    "#     print net[ 'r6' ].cmd( 'route' )\n",
    "#     print net[ 'r7' ].cmd( 'route' )\n",
    "#     print net[ 'h0' ].cmd( 'route' )\n",
    "#     print net[ 'h1' ].cmd( 'route' )\n",
    "#     print net[ 'h2' ].cmd( 'route' )\n",
    "#     print net[ 'r2' ].cmd( 'route' )\n",
    "    CLI( net )\n",
    "    net.stop()"
   ]
  },
  {
   "cell_type": "code",
   "execution_count": 14,
   "metadata": {},
   "outputs": [
    {
     "name": "stderr",
     "output_type": "stream",
     "text": [
      "*** Creating network\n",
      "*** Adding controller\n",
      "*** Adding hosts:\n",
      "r0 r1 \n",
      "*** Adding switches:\n",
      "\n",
      "*** Adding links:\n",
      "(r1, r0) \n",
      "*** Configuring hosts\n",
      "r0 r1 \n",
      "*** Starting controller\n",
      "c0 \n",
      "*** Starting 0 switches\n",
      "\n",
      "*** Routing Table on Router:\n",
      "*** Starting CLI:\n"
     ]
    },
    {
     "name": "stdout",
     "output_type": "stream",
     "text": [
      "r0\n",
      "Kernel IP routing table\n",
      "Destination     Gateway         Genmask         Flags Metric Ref    Use Iface\n",
      "default         140.0.0.253     0.0.0.0         UG    0      0        0 r0-eth2\n",
      "140.0.0.0       *               255.0.0.0       U     0      0        0 r0-eth2\n",
      "\n",
      "r1\n",
      "Kernel IP routing table\n",
      "Destination     Gateway         Genmask         Flags Metric Ref    Use Iface\n",
      "default         140.111.0.253   0.0.0.0         UG    0      0        0 r1-eth1\n",
      "140.111.0.0     *               255.255.0.0     U     0      0        0 r1-eth1\n",
      "\n",
      "mininet> r0 ping -c1 r1\n"
     ]
    },
    {
     "name": "stderr",
     "output_type": "stream",
     "text": [
      "PING 140.111.0.254 (140.111.0.254) 56(84) bytes of data.\n",
      "\n",
      "--- 140.111.0.254 ping statistics ---\n",
      "1 packets transmitted, 0 received, 100% packet loss, time 0ms\n",
      "\n"
     ]
    },
    {
     "name": "stdout",
     "output_type": "stream",
     "text": [
      "mininet> exit\n"
     ]
    },
    {
     "name": "stderr",
     "output_type": "stream",
     "text": [
      "*** Stopping 1 controllers\n",
      "c0 \n",
      "*** Stopping 1 links\n",
      ".\n",
      "*** Stopping 0 switches\n",
      "\n",
      "*** Stopping 2 hosts\n",
      "r0 r1 \n",
      "*** Done\n"
     ]
    }
   ],
   "source": [
    "if __name__ == '__main__':\n",
    "    setLogLevel( 'info' )\n",
    "    run()"
   ]
  },
  {
   "cell_type": "code",
   "execution_count": null,
   "metadata": {},
   "outputs": [],
   "source": []
  }
 ],
 "metadata": {
  "kernelspec": {
   "display_name": "Python 2",
   "language": "python",
   "name": "python2"
  },
  "language_info": {
   "codemirror_mode": {
    "name": "ipython",
    "version": 2
   },
   "file_extension": ".py",
   "mimetype": "text/x-python",
   "name": "python",
   "nbconvert_exporter": "python",
   "pygments_lexer": "ipython2",
   "version": "2.7.12"
  }
 },
 "nbformat": 4,
 "nbformat_minor": 2
}
