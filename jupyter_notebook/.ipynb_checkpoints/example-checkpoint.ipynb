{
 "cells": [
  {
   "cell_type": "code",
   "execution_count": 37,
   "metadata": {},
   "outputs": [
    {
     "data": {
      "text/plain": [
       "\"\\nlinuxrouter.py: Example network with Linux IP router\\nThis example converts a Node into a router using IP forwarding\\nalready built into Linux.\\nThe example topology creates a router and three IP subnets:\\n    - 192.168.1.0/24 (r0-eth1, IP: 192.168.1.1)\\n    - 172.16.0.0/12 (r0-eth2, IP: 172.16.0.1)\\n    - 10.0.0.0/8 (r0-eth3, IP: 10.0.0.1)\\nEach subnet consists of a single host connected to\\na single switch:\\n    r0-eth1 - s1-eth1 - h1-eth0 (IP: 192.168.1.100)\\n    r0-eth2 - s2-eth1 - h2-eth0 (IP: 172.16.0.100)\\n    r0-eth3 - s3-eth1 - h3-eth0 (IP: 10.0.0.100)\\nThe example relies on default routing entries that are\\nautomatically created for each router interface, as well\\nas 'defaultRoute' parameters for the host interfaces.\\nAdditional routes may be added to the router or hosts by\\nexecuting 'ip route' or 'route' commands on the router or hosts.\\n\""
      ]
     },
     "execution_count": 37,
     "metadata": {},
     "output_type": "execute_result"
    }
   ],
   "source": [
    "\"\"\"\n",
    "linuxrouter.py: Example network with Linux IP router\n",
    "This example converts a Node into a router using IP forwarding\n",
    "already built into Linux.\n",
    "The example topology creates a router and three IP subnets:\n",
    "    - 192.168.1.0/24 (r0-eth1, IP: 192.168.1.1)\n",
    "    - 172.16.0.0/12 (r0-eth2, IP: 172.16.0.1)\n",
    "    - 10.0.0.0/8 (r0-eth3, IP: 10.0.0.1)\n",
    "Each subnet consists of a single host connected to\n",
    "a single switch:\n",
    "    r0-eth1 - s1-eth1 - h1-eth0 (IP: 192.168.1.100)\n",
    "    r0-eth2 - s2-eth1 - h2-eth0 (IP: 172.16.0.100)\n",
    "    r0-eth3 - s3-eth1 - h3-eth0 (IP: 10.0.0.100)\n",
    "The example relies on default routing entries that are\n",
    "automatically created for each router interface, as well\n",
    "as 'defaultRoute' parameters for the host interfaces.\n",
    "Additional routes may be added to the router or hosts by\n",
    "executing 'ip route' or 'route' commands on the router or hosts.\n",
    "\"\"\""
   ]
  },
  {
   "cell_type": "code",
   "execution_count": 38,
   "metadata": {},
   "outputs": [],
   "source": [
    "from mininet.topo import Topo\n",
    "from mininet.net import Mininet\n",
    "from mininet.node import Node\n",
    "from mininet.log import setLogLevel, info\n",
    "from mininet.cli import CLI"
   ]
  },
  {
   "cell_type": "code",
   "execution_count": 39,
   "metadata": {},
   "outputs": [],
   "source": [
    "class LinuxRouter( Node ):\n",
    "    \"A Node with IP forwarding enabled.\"\n",
    "\n",
    "    def config( self, **params ):\n",
    "        super( LinuxRouter, self).config( **params )\n",
    "        # Enable forwarding on the router\n",
    "        self.cmd( 'sysctl net.ipv4.ip_forward=1' )\n",
    "\n",
    "    def terminate( self ):\n",
    "        self.cmd( 'sysctl net.ipv4.ip_forward=0' )\n",
    "        super( LinuxRouter, self ).terminate()"
   ]
  },
  {
   "cell_type": "code",
   "execution_count": 40,
   "metadata": {},
   "outputs": [],
   "source": [
    "class NetworkTopo( Topo ):\n",
    "    \"A LinuxRouter connecting three IP subnets\"\n",
    "\n",
    "    def build( self, **_opts ):\n",
    "\n",
    "        defaultIP = '192.168.1.1/24'  # IP address for r0-eth1\n",
    "        defaultIP_2 = '192.168.2.1/24'  # IP address for r0-eth1\n",
    "        router = self.addNode( 'r0', cls=LinuxRouter, ip=defaultIP )\n",
    "        router_2 = self.addNode( 'r1', cls=LinuxRouter, ip=defaultIP_2)\n",
    "\n",
    "        s1, s2, s3 = [ self.addSwitch( s ) for s in ( 's1', 's2', 's3' ) ]\n",
    "        \n",
    "        s21, s22, s23 = [self.addSwitch( s ) for s in ('s1', 's2', 's3' ) ]\n",
    "        \n",
    "#         self.addLink( s21, router, intfName2='r0-eth1',\n",
    "#                       params2={ 'ip' : defaultIP_2 } )  # for clarity\n",
    "        \n",
    "#         self.addLink( s22, router, intfName2='r0-eth2',\n",
    "#                       params2={ 'ip' : '172.16.0.1/12' } )\n",
    "        \n",
    "#         self.addLink( s23, router, intfName2='r0-eth3',\n",
    "#                       params2={ 'ip' : '10.0.0.1/8' } )\n",
    "        \n",
    "        \n",
    "        self.addLink( s1, router, intfName2='r0-eth1',\n",
    "                      params2={ 'ip' : defaultIP } )  # for clarity\n",
    "        self.addLink( router, router_2, intfName2='r0-eth2',\n",
    "                      params2={ 'ip' : defaultIP_2 } )  # for clarity\n",
    "#         self.addLink( router, router_2, intfName2='r0-eth2',\n",
    "#                       params2={ 'ip' : defaultIP } )  # for clarity\n",
    "#         self.addLink( s2, router, intfName2='r0-eth2',\n",
    "#                       params2={ 'ip' : '172.16.0.1/12' } )\n",
    "#         self.addLink( s3, router, intfName2='r0-eth3',\n",
    "#                       params2={ 'ip' : '10.0.0.1/8' } )\n",
    "\n",
    "#         h1 = self.addHost( 'h1', ip='192.168.1.100/24',\n",
    "#                            defaultRoute='via 192.168.1.1' )\n",
    "#         h2 = self.addHost( 'h2', ip='172.16.0.100/12',\n",
    "#                            defaultRoute='via 172.16.0.1' )\n",
    "#         h3 = self.addHost( 'h3', ip='10.0.0.100/8',\n",
    "#                            defaultRoute='via 10.0.0.1' )\n",
    "\n",
    "#         for h, s in [ (h1, s1), (h2, s2), (h3, s3) ]:\n",
    "#             self.addLink( h, s )"
   ]
  },
  {
   "cell_type": "code",
   "execution_count": 41,
   "metadata": {},
   "outputs": [
    {
     "name": "stderr",
     "output_type": "stream",
     "text": [
      "*** Creating network\n",
      "*** Adding controller\n",
      "*** Adding hosts:\n",
      "r0 r1 \n",
      "*** Adding switches:\n",
      "s1 s2 s3 \n",
      "*** Adding links:\n",
      "(r0, r1) "
     ]
    },
    {
     "ename": "Exception",
     "evalue": "Error creating interface pair (s1-eth1,r0-eth1): RTNETLINK answers: File exists\r\n ",
     "output_type": "error",
     "traceback": [
      "\u001b[0;31m---------------------------------------------------------------------------\u001b[0m",
      "\u001b[0;31mException\u001b[0m                                 Traceback (most recent call last)",
      "\u001b[0;32m<ipython-input-41-f093de4ec8fb>\u001b[0m in \u001b[0;36m<module>\u001b[0;34m()\u001b[0m\n\u001b[1;32m     11\u001b[0m \u001b[0;32mif\u001b[0m \u001b[0m__name__\u001b[0m \u001b[0;34m==\u001b[0m \u001b[0;34m'__main__'\u001b[0m\u001b[0;34m:\u001b[0m\u001b[0;34m\u001b[0m\u001b[0m\n\u001b[1;32m     12\u001b[0m     \u001b[0msetLogLevel\u001b[0m\u001b[0;34m(\u001b[0m \u001b[0;34m'info'\u001b[0m \u001b[0;34m)\u001b[0m\u001b[0;34m\u001b[0m\u001b[0m\n\u001b[0;32m---> 13\u001b[0;31m     \u001b[0mrun\u001b[0m\u001b[0;34m(\u001b[0m\u001b[0;34m)\u001b[0m\u001b[0;34m\u001b[0m\u001b[0m\n\u001b[0m",
      "\u001b[0;32m<ipython-input-41-f093de4ec8fb>\u001b[0m in \u001b[0;36mrun\u001b[0;34m()\u001b[0m\n\u001b[1;32m      2\u001b[0m     \u001b[0;34m\"Test linux router\"\u001b[0m\u001b[0;34m\u001b[0m\u001b[0m\n\u001b[1;32m      3\u001b[0m     \u001b[0mtopo\u001b[0m \u001b[0;34m=\u001b[0m \u001b[0mNetworkTopo\u001b[0m\u001b[0;34m(\u001b[0m\u001b[0;34m)\u001b[0m\u001b[0;34m\u001b[0m\u001b[0m\n\u001b[0;32m----> 4\u001b[0;31m     \u001b[0mnet\u001b[0m \u001b[0;34m=\u001b[0m \u001b[0mMininet\u001b[0m\u001b[0;34m(\u001b[0m \u001b[0mtopo\u001b[0m\u001b[0;34m=\u001b[0m\u001b[0mtopo\u001b[0m \u001b[0;34m)\u001b[0m  \u001b[0;31m# controller is used by s1-s3\u001b[0m\u001b[0;34m\u001b[0m\u001b[0m\n\u001b[0m\u001b[1;32m      5\u001b[0m     \u001b[0mnet\u001b[0m\u001b[0;34m.\u001b[0m\u001b[0mstart\u001b[0m\u001b[0;34m(\u001b[0m\u001b[0;34m)\u001b[0m\u001b[0;34m\u001b[0m\u001b[0m\n\u001b[1;32m      6\u001b[0m     \u001b[0minfo\u001b[0m\u001b[0;34m(\u001b[0m \u001b[0;34m'*** Routing Table on Router:\\n'\u001b[0m \u001b[0;34m)\u001b[0m\u001b[0;34m\u001b[0m\u001b[0m\n",
      "\u001b[0;32m/usr/local/lib/python2.7/dist-packages/mininet-2.3.0d1-py2.7.egg/mininet/net.pyc\u001b[0m in \u001b[0;36m__init__\u001b[0;34m(self, topo, switch, host, controller, link, intf, build, xterms, cleanup, ipBase, inNamespace, autoSetMacs, autoStaticArp, autoPinCpus, listenPort, waitConnected)\u001b[0m\n\u001b[1;32m    172\u001b[0m         \u001b[0mself\u001b[0m\u001b[0;34m.\u001b[0m\u001b[0mbuilt\u001b[0m \u001b[0;34m=\u001b[0m \u001b[0mFalse\u001b[0m\u001b[0;34m\u001b[0m\u001b[0m\n\u001b[1;32m    173\u001b[0m         \u001b[0;32mif\u001b[0m \u001b[0mtopo\u001b[0m \u001b[0;32mand\u001b[0m \u001b[0mbuild\u001b[0m\u001b[0;34m:\u001b[0m\u001b[0;34m\u001b[0m\u001b[0m\n\u001b[0;32m--> 174\u001b[0;31m             \u001b[0mself\u001b[0m\u001b[0;34m.\u001b[0m\u001b[0mbuild\u001b[0m\u001b[0;34m(\u001b[0m\u001b[0;34m)\u001b[0m\u001b[0;34m\u001b[0m\u001b[0m\n\u001b[0m\u001b[1;32m    175\u001b[0m \u001b[0;34m\u001b[0m\u001b[0m\n\u001b[1;32m    176\u001b[0m     \u001b[0;32mdef\u001b[0m \u001b[0mwaitConnected\u001b[0m\u001b[0;34m(\u001b[0m \u001b[0mself\u001b[0m\u001b[0;34m,\u001b[0m \u001b[0mtimeout\u001b[0m\u001b[0;34m=\u001b[0m\u001b[0mNone\u001b[0m\u001b[0;34m,\u001b[0m \u001b[0mdelay\u001b[0m\u001b[0;34m=\u001b[0m\u001b[0;36m.5\u001b[0m \u001b[0;34m)\u001b[0m\u001b[0;34m:\u001b[0m\u001b[0;34m\u001b[0m\u001b[0m\n",
      "\u001b[0;32m/usr/local/lib/python2.7/dist-packages/mininet-2.3.0d1-py2.7.egg/mininet/net.pyc\u001b[0m in \u001b[0;36mbuild\u001b[0;34m(self)\u001b[0m\n\u001b[1;32m    500\u001b[0m         \u001b[0;34m\"Build mininet.\"\u001b[0m\u001b[0;34m\u001b[0m\u001b[0m\n\u001b[1;32m    501\u001b[0m         \u001b[0;32mif\u001b[0m \u001b[0mself\u001b[0m\u001b[0;34m.\u001b[0m\u001b[0mtopo\u001b[0m\u001b[0;34m:\u001b[0m\u001b[0;34m\u001b[0m\u001b[0m\n\u001b[0;32m--> 502\u001b[0;31m             \u001b[0mself\u001b[0m\u001b[0;34m.\u001b[0m\u001b[0mbuildFromTopo\u001b[0m\u001b[0;34m(\u001b[0m \u001b[0mself\u001b[0m\u001b[0;34m.\u001b[0m\u001b[0mtopo\u001b[0m \u001b[0;34m)\u001b[0m\u001b[0;34m\u001b[0m\u001b[0m\n\u001b[0m\u001b[1;32m    503\u001b[0m         \u001b[0;32mif\u001b[0m \u001b[0mself\u001b[0m\u001b[0;34m.\u001b[0m\u001b[0minNamespace\u001b[0m\u001b[0;34m:\u001b[0m\u001b[0;34m\u001b[0m\u001b[0m\n\u001b[1;32m    504\u001b[0m             \u001b[0mself\u001b[0m\u001b[0;34m.\u001b[0m\u001b[0mconfigureControlNetwork\u001b[0m\u001b[0;34m(\u001b[0m\u001b[0;34m)\u001b[0m\u001b[0;34m\u001b[0m\u001b[0m\n",
      "\u001b[0;32m/usr/local/lib/python2.7/dist-packages/mininet-2.3.0d1-py2.7.egg/mininet/net.pyc\u001b[0m in \u001b[0;36mbuildFromTopo\u001b[0;34m(self, topo)\u001b[0m\n\u001b[1;32m    487\u001b[0m         for srcName, dstName, params in topo.links(\n\u001b[1;32m    488\u001b[0m                 sort=True, withInfo=True ):\n\u001b[0;32m--> 489\u001b[0;31m             \u001b[0mself\u001b[0m\u001b[0;34m.\u001b[0m\u001b[0maddLink\u001b[0m\u001b[0;34m(\u001b[0m \u001b[0;34m**\u001b[0m\u001b[0mparams\u001b[0m \u001b[0;34m)\u001b[0m\u001b[0;34m\u001b[0m\u001b[0m\n\u001b[0m\u001b[1;32m    490\u001b[0m             \u001b[0minfo\u001b[0m\u001b[0;34m(\u001b[0m \u001b[0;34m'(%s, %s) '\u001b[0m \u001b[0;34m%\u001b[0m \u001b[0;34m(\u001b[0m \u001b[0msrcName\u001b[0m\u001b[0;34m,\u001b[0m \u001b[0mdstName\u001b[0m \u001b[0;34m)\u001b[0m \u001b[0;34m)\u001b[0m\u001b[0;34m\u001b[0m\u001b[0m\n\u001b[1;32m    491\u001b[0m \u001b[0;34m\u001b[0m\u001b[0m\n",
      "\u001b[0;32m/usr/local/lib/python2.7/dist-packages/mininet-2.3.0d1-py2.7.egg/mininet/net.pyc\u001b[0m in \u001b[0;36maddLink\u001b[0;34m(self, node1, node2, port1, port2, cls, **params)\u001b[0m\n\u001b[1;32m    398\u001b[0m         \u001b[0moptions\u001b[0m\u001b[0;34m.\u001b[0m\u001b[0msetdefault\u001b[0m\u001b[0;34m(\u001b[0m \u001b[0;34m'addr2'\u001b[0m\u001b[0;34m,\u001b[0m \u001b[0mself\u001b[0m\u001b[0;34m.\u001b[0m\u001b[0mrandMac\u001b[0m\u001b[0;34m(\u001b[0m\u001b[0;34m)\u001b[0m \u001b[0;34m)\u001b[0m\u001b[0;34m\u001b[0m\u001b[0m\n\u001b[1;32m    399\u001b[0m         \u001b[0mcls\u001b[0m \u001b[0;34m=\u001b[0m \u001b[0mself\u001b[0m\u001b[0;34m.\u001b[0m\u001b[0mlink\u001b[0m \u001b[0;32mif\u001b[0m \u001b[0mcls\u001b[0m \u001b[0;32mis\u001b[0m \u001b[0mNone\u001b[0m \u001b[0;32melse\u001b[0m \u001b[0mcls\u001b[0m\u001b[0;34m\u001b[0m\u001b[0m\n\u001b[0;32m--> 400\u001b[0;31m         \u001b[0mlink\u001b[0m \u001b[0;34m=\u001b[0m \u001b[0mcls\u001b[0m\u001b[0;34m(\u001b[0m \u001b[0mnode1\u001b[0m\u001b[0;34m,\u001b[0m \u001b[0mnode2\u001b[0m\u001b[0;34m,\u001b[0m \u001b[0;34m**\u001b[0m\u001b[0moptions\u001b[0m \u001b[0;34m)\u001b[0m\u001b[0;34m\u001b[0m\u001b[0m\n\u001b[0m\u001b[1;32m    401\u001b[0m         \u001b[0mself\u001b[0m\u001b[0;34m.\u001b[0m\u001b[0mlinks\u001b[0m\u001b[0;34m.\u001b[0m\u001b[0mappend\u001b[0m\u001b[0;34m(\u001b[0m \u001b[0mlink\u001b[0m \u001b[0;34m)\u001b[0m\u001b[0;34m\u001b[0m\u001b[0m\n\u001b[1;32m    402\u001b[0m         \u001b[0;32mreturn\u001b[0m \u001b[0mlink\u001b[0m\u001b[0;34m\u001b[0m\u001b[0m\n",
      "\u001b[0;32m/usr/local/lib/python2.7/dist-packages/mininet-2.3.0d1-py2.7.egg/mininet/link.pyc\u001b[0m in \u001b[0;36m__init__\u001b[0;34m(self, node1, node2, port1, port2, intfName1, intfName2, addr1, addr2, intf, cls1, cls2, params1, params2, fast)\u001b[0m\n\u001b[1;32m    449\u001b[0m             \u001b[0mparams2\u001b[0m\u001b[0;34m.\u001b[0m\u001b[0msetdefault\u001b[0m\u001b[0;34m(\u001b[0m \u001b[0;34m'moveIntfFn'\u001b[0m\u001b[0;34m,\u001b[0m \u001b[0mself\u001b[0m\u001b[0;34m.\u001b[0m\u001b[0m_ignore\u001b[0m \u001b[0;34m)\u001b[0m\u001b[0;34m\u001b[0m\u001b[0m\n\u001b[1;32m    450\u001b[0m             self.makeIntfPair( intfName1, intfName2, addr1, addr2,\n\u001b[0;32m--> 451\u001b[0;31m                                node1, node2, deleteIntfs=False )\n\u001b[0m\u001b[1;32m    452\u001b[0m         \u001b[0;32melse\u001b[0m\u001b[0;34m:\u001b[0m\u001b[0;34m\u001b[0m\u001b[0m\n\u001b[1;32m    453\u001b[0m             \u001b[0mself\u001b[0m\u001b[0;34m.\u001b[0m\u001b[0mmakeIntfPair\u001b[0m\u001b[0;34m(\u001b[0m \u001b[0mintfName1\u001b[0m\u001b[0;34m,\u001b[0m \u001b[0mintfName2\u001b[0m\u001b[0;34m,\u001b[0m \u001b[0maddr1\u001b[0m\u001b[0;34m,\u001b[0m \u001b[0maddr2\u001b[0m \u001b[0;34m)\u001b[0m\u001b[0;34m\u001b[0m\u001b[0m\n",
      "\u001b[0;32m/usr/local/lib/python2.7/dist-packages/mininet-2.3.0d1-py2.7.egg/mininet/link.pyc\u001b[0m in \u001b[0;36mmakeIntfPair\u001b[0;34m(cls, intfname1, intfname2, addr1, addr2, node1, node2, deleteIntfs)\u001b[0m\n\u001b[1;32m    493\u001b[0m         \u001b[0;32massert\u001b[0m \u001b[0mcls\u001b[0m\u001b[0;34m\u001b[0m\u001b[0m\n\u001b[1;32m    494\u001b[0m         return makeIntfPair( intfname1, intfname2, addr1, addr2, node1, node2,\n\u001b[0;32m--> 495\u001b[0;31m                              deleteIntfs=deleteIntfs )\n\u001b[0m\u001b[1;32m    496\u001b[0m \u001b[0;34m\u001b[0m\u001b[0m\n\u001b[1;32m    497\u001b[0m     \u001b[0;32mdef\u001b[0m \u001b[0mdelete\u001b[0m\u001b[0;34m(\u001b[0m \u001b[0mself\u001b[0m \u001b[0;34m)\u001b[0m\u001b[0;34m:\u001b[0m\u001b[0;34m\u001b[0m\u001b[0m\n",
      "\u001b[0;32m/usr/local/lib/python2.7/dist-packages/mininet-2.3.0d1-py2.7.egg/mininet/util.pyc\u001b[0m in \u001b[0;36mmakeIntfPair\u001b[0;34m(intf1, intf2, addr1, addr2, node1, node2, deleteIntfs, runCmd)\u001b[0m\n\u001b[1;32m    193\u001b[0m     \u001b[0;32mif\u001b[0m \u001b[0mcmdOutput\u001b[0m\u001b[0;34m:\u001b[0m\u001b[0;34m\u001b[0m\u001b[0m\n\u001b[1;32m    194\u001b[0m         raise Exception( \"Error creating interface pair (%s,%s): %s \" %\n\u001b[0;32m--> 195\u001b[0;31m                          ( intf1, intf2, cmdOutput ) )\n\u001b[0m\u001b[1;32m    196\u001b[0m \u001b[0;34m\u001b[0m\u001b[0m\n\u001b[1;32m    197\u001b[0m \u001b[0;32mdef\u001b[0m \u001b[0mretry\u001b[0m\u001b[0;34m(\u001b[0m \u001b[0mretries\u001b[0m\u001b[0;34m,\u001b[0m \u001b[0mdelaySecs\u001b[0m\u001b[0;34m,\u001b[0m \u001b[0mfn\u001b[0m\u001b[0;34m,\u001b[0m \u001b[0;34m*\u001b[0m\u001b[0margs\u001b[0m\u001b[0;34m,\u001b[0m \u001b[0;34m**\u001b[0m\u001b[0mkeywords\u001b[0m \u001b[0;34m)\u001b[0m\u001b[0;34m:\u001b[0m\u001b[0;34m\u001b[0m\u001b[0m\n",
      "\u001b[0;31mException\u001b[0m: Error creating interface pair (s1-eth1,r0-eth1): RTNETLINK answers: File exists\r\n "
     ]
    }
   ],
   "source": [
    "def run():\n",
    "    \"Test linux router\"\n",
    "    topo = NetworkTopo()\n",
    "    net = Mininet( topo=topo )  # controller is used by s1-s3\n",
    "    net.start()\n",
    "    info( '*** Routing Table on Router:\\n' )\n",
    "    info( net[ 'r0' ].cmd( 'route' ) )\n",
    "    info( net[ 'r1' ].cmd( 'route' ) )\n",
    "    CLI( net )\n",
    "    net.stop()\n",
    "\n",
    "if __name__ == '__main__':\n",
    "    setLogLevel( 'info' )\n",
    "    run()"
   ]
  },
  {
   "cell_type": "code",
   "execution_count": null,
   "metadata": {},
   "outputs": [],
   "source": []
  }
 ],
 "metadata": {
  "kernelspec": {
   "display_name": "Python 2",
   "language": "python",
   "name": "python2"
  },
  "language_info": {
   "codemirror_mode": {
    "name": "ipython",
    "version": 2
   },
   "file_extension": ".py",
   "mimetype": "text/x-python",
   "name": "python",
   "nbconvert_exporter": "python",
   "pygments_lexer": "ipython2",
   "version": "2.7.12"
  }
 },
 "nbformat": 4,
 "nbformat_minor": 2
}
