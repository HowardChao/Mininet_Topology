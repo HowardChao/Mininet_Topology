{
 "cells": [
  {
   "cell_type": "code",
   "execution_count": null,
   "metadata": {},
   "outputs": [],
   "source": [
    "from mininet.cli import CLI\n",
    "from mininet.net import Mininet\n",
    "from mininet.link import Link, TCLink, Intf"
   ]
  },
  {
   "cell_type": "code",
   "execution_count": null,
   "metadata": {},
   "outputs": [],
   "source": [
    "if '__main__' == __name__:\n",
    "    net = Mininet(link=TCLink)\n",
    "    h1 = net.addHost('h1')\n",
    "    h2 = net.addHost('h2')\n",
    "    r1 = net.addHost('r1')\n",
    "    r2 = net.addHost('r2')\n",
    "    net.addLink(h1, r1)\n",
    "    net.addLink(h2, r2)\n",
    "    net.addLink(r1, r2)\n",
    "    # r1\n",
    "    r1.cmd(\"ifconfig r1-eth0 0\")\n",
    "    r1.cmd(\"ifconfig r1-eth1 0\")\n",
    "    r1.cmd(\"ifconfig r1-eth0 192.168.10.254 netmask 255.255.255.0\")\n",
    "    r1.cmd(\"ifconfig r1-eth1 192.168.20.1 netmask 255.255.255.0\")\n",
    "    r1.cmd(\"echo 1 > /proc/sys/net/ipv4/ip_forward\")\n",
    "    r1.cmd(\"ip route add 192.168.30.0/24 via 192.168.20.2\")\n",
    "    # r2 \n",
    "    r2.cmd(\"ifconfig r2-eth0 0\")\n",
    "    r2.cmd(\"ifconfig r2-eth1 0\")\n",
    "    r2.cmd(\"ifconfig r2-eth0 192.168.30.254 netmask 255.255.255.0\")\n",
    "    r2.cmd(\"ifconfig r2-eth1 192.168.20.2 netmask 255.255.255.0\")\n",
    "    r2.cmd(\"echo 1 > /proc/sys/net/ipv4/ip_forward\")\n",
    "    r2.cmd(\"ip route add 192.168.10.0/24 via 192.168.20.1\")\n",
    "    h1.cmd(\"ifconfig h1-eth0 0\")\n",
    "    h1.cmd(\"ip addr add 192.168.10.1/24 brd + dev h1-eth0\")\n",
    "    h1.cmd(\"ip route add default via 192.168.10.254\")\n",
    "    h1.cmd(\"ifconfig h2-eth0 0\")\n",
    "    h1.cmd(\"ip addr add 192.168.30.1/24 brd + dev h2-eth0\")\n",
    "    h1.cmd(\"ip route add default via 192.168.30.254\")\n",
    "    net.build()\n",
    "    CLI(net)\n",
    "    net.stop()"
   ]
  },
  {
   "cell_type": "code",
   "execution_count": null,
   "metadata": {},
   "outputs": [],
   "source": []
  }
 ],
 "metadata": {
  "kernelspec": {
   "display_name": "Python 2",
   "language": "python",
   "name": "python2"
  },
  "language_info": {
   "codemirror_mode": {
    "name": "ipython",
    "version": 2
   },
   "file_extension": ".py",
   "mimetype": "text/x-python",
   "name": "python",
   "nbconvert_exporter": "python",
   "pygments_lexer": "ipython2",
   "version": "2.7.12"
  }
 },
 "nbformat": 4,
 "nbformat_minor": 2
}
