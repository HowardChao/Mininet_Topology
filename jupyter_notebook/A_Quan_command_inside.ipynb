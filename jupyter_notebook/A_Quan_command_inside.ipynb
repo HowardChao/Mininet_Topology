{
 "cells": [
  {
   "cell_type": "code",
   "execution_count": 1,
   "metadata": {},
   "outputs": [],
   "source": [
    "from mininet.cli import CLI\n",
    "from mininet.net import Mininet\n",
    "from mininet.link import Link, TCLink, Intf"
   ]
  },
  {
   "cell_type": "code",
   "execution_count": 2,
   "metadata": {},
   "outputs": [
    {
     "name": "stdout",
     "output_type": "stream",
     "text": [
      "mininet> net\n"
     ]
    },
    {
     "name": "stderr",
     "output_type": "stream",
     "text": [
      "h1 h1-eth0:r1-eth0\n",
      "h2 h2-eth0:r2-eth0\n",
      "r1 r1-eth0:h1-eth0 r1-eth1:r2-eth1\n",
      "r2 r2-eth0:h2-eth0 r2-eth1:r1-eth1\n"
     ]
    },
    {
     "name": "stdout",
     "output_type": "stream",
     "text": [
      "mininet> r1 rout\n"
     ]
    },
    {
     "name": "stderr",
     "output_type": "stream",
     "text": [
      "bash: rout: command not found\r\n"
     ]
    },
    {
     "name": "stdout",
     "output_type": "stream",
     "text": [
      "mininet> r1 route\n"
     ]
    },
    {
     "name": "stderr",
     "output_type": "stream",
     "text": [
      "Kernel IP routing table\n",
      "Destination     Gateway         Genmask         Flags Metric Ref    Use Iface\n",
      "10.0.0.0        *               255.0.0.0       U     0      0        0 r1-eth0\n",
      "192.168.20.0    *               255.255.255.0   U     0      0        0 r1-eth1\n",
      "192.168.30.0    192.168.20.2    255.255.255.0   UG    0      0        0 r1-eth1\n"
     ]
    },
    {
     "name": "stdout",
     "output_type": "stream",
     "text": [
      "mininet> pingall\n"
     ]
    },
    {
     "name": "stderr",
     "output_type": "stream",
     "text": [
      "*** Ping: testing ping reachability\n",
      "h1 -> X r1 X \n",
      "h2 -> X X r2 \n",
      "r1 -> h1 X X \n",
      "r2 -> X h2 X \n",
      "*** Results: 66% dropped (4/12 received)\n"
     ]
    },
    {
     "name": "stdout",
     "output_type": "stream",
     "text": [
      "mininet> r2 route\n"
     ]
    },
    {
     "name": "stderr",
     "output_type": "stream",
     "text": [
      "Kernel IP routing table\n",
      "Destination     Gateway         Genmask         Flags Metric Ref    Use Iface\n",
      "10.0.0.0        *               255.0.0.0       U     0      0        0 r2-eth0\n",
      "192.168.10.0    192.168.20.1    255.255.255.0   UG    0      0        0 r2-eth1\n",
      "192.168.20.0    *               255.255.255.0   U     0      0        0 r2-eth1\n"
     ]
    },
    {
     "name": "stdout",
     "output_type": "stream",
     "text": [
      "mininet> h1 route\n"
     ]
    },
    {
     "name": "stderr",
     "output_type": "stream",
     "text": [
      "Kernel IP routing table\n",
      "Destination     Gateway         Genmask         Flags Metric Ref    Use Iface\n",
      "10.0.0.0        *               255.0.0.0       U     0      0        0 h1-eth0\n"
     ]
    },
    {
     "name": "stdout",
     "output_type": "stream",
     "text": [
      "mininet> h1 ping -c 1 h2\n"
     ]
    },
    {
     "name": "stderr",
     "output_type": "stream",
     "text": [
      "PING 10.0.0.2 (10.0.0.2) 56(84) bytes of data.\n",
      "From 10.0.0.1 icmp_seq=1 Destination Host Unreachable\n",
      "\n",
      "--- 10.0.0.2 ping statistics ---\n",
      "1 packets transmitted, 0 received, +1 errors, 100% packet loss, time 0ms\n",
      "\n"
     ]
    },
    {
     "name": "stdout",
     "output_type": "stream",
     "text": [
      "mininet> exit\n"
     ]
    }
   ],
   "source": [
    "if '__main__' == __name__:\n",
    "    net = Mininet(link=TCLink)\n",
    "    h1 = net.addHost('h1')\n",
    "    h2 = net.addHost('h2')\n",
    "    r1 = net.addHost('r1')\n",
    "    r2 = net.addHost('r2')\n",
    "    net.addLink(h1, r1)\n",
    "    net.addLink(h2, r2)\n",
    "    net.addLink(r1, r2)\n",
    "    # r1\n",
    "#     r1.cmd(\"ifconfig r1-eth0 0\")\n",
    "#     r1.cmd(\"ifconfig r1-eth1 0\")\n",
    "#     r1.cmd(\"ifconfig r1-eth0 192.168.10.254 netmask 255.255.255.0\")\n",
    "#     r1.cmd(\"ifconfig r1-eth1 192.168.20.1 netmask 255.255.255.0\")\n",
    "#     r1.cmd(\"echo 1 > /proc/sys/net/ipv4/ip_forward\")\n",
    "#     r1.cmd(\"ip route add 192.168.30.0/24 via 192.168.20.2\")\n",
    "#     # r2 \n",
    "#     r2.cmd(\"ifconfig r2-eth0 0\")\n",
    "#     r2.cmd(\"ifconfig r2-eth1 0\")\n",
    "#     r2.cmd(\"ifconfig r2-eth0 192.168.30.254 netmask 255.255.255.0\")\n",
    "#     r2.cmd(\"ifconfig r2-eth1 192.168.20.2 netmask 255.255.255.0\")\n",
    "#     r2.cmd(\"echo 1 > /proc/sys/net/ipv4/ip_forward\")\n",
    "#     r2.cmd(\"ip route add 192.168.10.0/24 via 192.168.20.1\")\n",
    "#     h1.cmd(\"ifconfig h1-eth0 0\")\n",
    "#     h1.cmd(\"ip addr add 192.168.10.1/24 brd + dev h1-eth0\")\n",
    "#     h1.cmd(\"ip route add default via 192.168.10.254\")\n",
    "#     h1.cmd(\"ifconfig h2-eth0 0\")\n",
    "#     h1.cmd(\"ip addr add 192.168.30.1/24 brd + dev h2-eth0\")\n",
    "#     h1.cmd(\"ip route add default via 192.168.30.254\")\n",
    "    net.build()\n",
    "    CLI(net)\n",
    "    net.stop()"
   ]
  },
  {
   "cell_type": "code",
   "execution_count": null,
   "metadata": {},
   "outputs": [],
   "source": []
  }
 ],
 "metadata": {
  "kernelspec": {
   "display_name": "Python 2",
   "language": "python",
   "name": "python2"
  },
  "language_info": {
   "codemirror_mode": {
    "name": "ipython",
    "version": 2
   },
   "file_extension": ".py",
   "mimetype": "text/x-python",
   "name": "python",
   "nbconvert_exporter": "python",
   "pygments_lexer": "ipython2",
   "version": "2.7.12"
  }
 },
 "nbformat": 4,
 "nbformat_minor": 2
}
