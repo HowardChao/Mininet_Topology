{
 "cells": [
  {
   "cell_type": "code",
   "execution_count": 1,
   "metadata": {},
   "outputs": [],
   "source": [
    "from mininet.topo import Topo\n",
    "from mininet.net import Mininet\n",
    "from mininet.node import Node\n",
    "from mininet.log import setLogLevel, info\n",
    "from mininet.cli import CLI"
   ]
  },
  {
   "cell_type": "code",
   "execution_count": 2,
   "metadata": {},
   "outputs": [],
   "source": [
    "class LinuxRouter( Node ):\n",
    "    \"A Node with IP forwarding enabled.\"\n",
    "\n",
    "    def config( self, **params ):\n",
    "        super( LinuxRouter, self).config( **params )\n",
    "        # Enable forwarding on the router\n",
    "        self.cmd( 'sysctl net.ipv4.ip_forward=1' )\n",
    "\n",
    "    def terminate( self ):\n",
    "        self.cmd( 'sysctl net.ipv4.ip_forward=0' )\n",
    "        super( LinuxRouter, self ).terminate()"
   ]
  },
  {
   "cell_type": "code",
   "execution_count": 3,
   "metadata": {},
   "outputs": [],
   "source": [
    "class NetworkTopo( Topo ):\n",
    "    \"A LinuxRouter connecting three IP subnets\"\n",
    "\n",
    "    def build( self, **_opts ):\n",
    "\n",
    "        r0_defaultIP = '192.168.10.1/24'  # IP address for r0-eth1\n",
    "        r1_defaultIP = '192.168.30.1/24'  # IP address for r0-eth1\n",
    "#         r2_defaultIP = '10.0.10.3/24'  # IP address for r0-eth1\n",
    "\n",
    "\n",
    "#         r2_defaultIP = '10.0.3.1/24'  # IP address for r0-eth1\n",
    "        h0_defaultIP = '192.168.10.2/24'\n",
    "        h1_defaultIP = '192.168.30.2/24'\n",
    "#         h2_defaultIP = '10.0.3.100/24'\n",
    "#         h4_defaultIP = '10.0.6.100/24'\n",
    "#         h5_defaultIP = '10.0.5.100/24'\n",
    "#         h6_defaultIP = '10.0.6.100/24'\n",
    "        \n",
    "#         h3_defaultIP = '10.0.1.2/24'\n",
    "        \n",
    "        router_0 = self.addNode( 'r0', cls=LinuxRouter, ip=r0_defaultIP, inf='r0-eth0', defaultRoute='via 192.168.20.2',  )\n",
    "        router_1 = self.addNode( 'r1', cls=LinuxRouter, ip=r1_defaultIP, inf='r1-eth0', defaultRoute='via 192.168.20.1' )\n",
    "#         router_2 = self.addNode( 'r2', cls=LinuxRouter, ip=r2_defaultIP, inf='r2-eth0', defaultRoute='via 10.0.1.1' )\n",
    "\n",
    "#         router_2 = self.addNode( 'r2', cls=LinuxRouter, ip=r2_defaultIP )\n",
    "#         router_0.setDefaultRoute(self, intf = \"r0-eth0\")\n",
    "\n",
    "        h0 = self.addHost( 'h0', ip=h0_defaultIP, defaultRoute='via 192.168.10.1' )\n",
    "        h1 = self.addHost( 'h1', ip=h1_defaultIP, defaultRoute='via 192.168.30.1' )\n",
    "#         h2 = self.addHost( 'h2', ip=h2_defaultIP, defaultRoute='via 10.0.3.1' )\n",
    "#         h4 = self.addHost( 'h4', ip=h4_defaultIP, defaultRoute='via 10.0.4.1' )\n",
    "#         h5 = self.addHost( 'h5', ip=h5_defaultIP, defaultRoute='via 10.0.5.1' )\n",
    "#         h6 = self.addHost( 'h6', ip=h6_defaultIP, defaultRoute='via 10.0.6.1' )\n",
    "        \n",
    "#         s1 = self.addSwitch('s1')\n",
    "# link for r0\n",
    "        self.addLink( h0, router_0, intfName2='r0-eth0', params2={ 'ip' : '192.168.10.1/24' , 'gate' : '0.0.0.0'} )\n",
    "        self.addLink( h1, router_1, intfName2='r1-eth0', params2={ 'ip' : '192.168.30.1/24' } )\n",
    "        self.addLink( router_0, router_1, intfName1='r0-eth1', intfName2='r1-eth1', params1={ 'ip' : '192.168.20.1/24' }, params2={ 'ip' : '192.168.20.2/24' } )\n",
    "\n",
    "\n",
    "#         self.addLink( h1, router_1, intfName2='r1-eth0' )\n",
    "#         self.addLink( h2, router_2, intfName2='r2-eth0' )\n",
    "        \n",
    "# #         self.addLink( router_1, router_0, intfName2='r0-eth1', params2={'ip' : '10.0.2.1/24' })\n",
    "#         self.addLink( router_0, router_1, intfName2='r0-eth1')\n",
    "\n",
    "\n",
    "#         self.addLink( router_2, router_0, intfName2='r0-eth2', params2={'ip' : '10.0.3.1/24' })\n",
    "        \n",
    "        \n",
    "        \n",
    "#         self.addLink( router_0, router_1, intfName2='r0-eth0', params2={ 'ip' : '10.0.1.1/24' } )\n",
    "#         self.addLink( h1, router_0, intfName2='r0-eth1', params2={ 'ip' : '10.0.3.1/24' } )\n",
    "#         self.addLink( h2, router_0, intfName2='r0-eth2', params2={ 'ip' : '10.0.4.1/24' } )\n",
    "#         self.addLink( router_1, router_0, intfName2='r0-eth1', params2={ 'ip' : '10.0.2.1/24' } )\n",
    "# link for r1\n",
    "#         self.addLink( router_0, router_1, intfName2='r1-eth0', params2={ 'ip' : '10.0.2.1/24' } )\n",
    "#         self.addLink( h3, router_1, intfName2='r1-eth1', params2={ 'ip' : '10.0.5.1/24' } )\n",
    "#         self.addLink( h4, router_1, intfName2='r1-eth2', params2={ 'ip' : '10.0.6.1/24' } )\n",
    "#         self.addLink( h4, router_1, intfName2='r1-eth1', params2={ 'ip' : '10.0.4.1/24' } )\n",
    "#         self.addLink( router_0, router_1, intfName2='r1-eth4', params2={ 'ip' : '10.0.1.1/24' } )"
   ]
  },
  {
   "cell_type": "code",
   "execution_count": 4,
   "metadata": {},
   "outputs": [],
   "source": [
    "def run():\n",
    "    \"Test linux router\"\n",
    "    topo = NetworkTopo()\n",
    "    net = Mininet( topo=topo )  # controller is used by s1-s3\n",
    "    net.start()\n",
    "    info( '*** Routing Table on Router:\\n' )\n",
    "    print net[ 'r0' ].cmd( 'route' )\n",
    "    print net[ 'r1' ].cmd( 'route' )\n",
    "#     print net[ 'r2' ].cmd( 'route' )\n",
    "    print net[ 'h0' ].cmd( 'route' )\n",
    "    print net[ 'h1' ].cmd( 'route' )\n",
    "#     print net[ 'h2' ].cmd( 'route' )\n",
    "#     print net[ 'r2' ].cmd( 'route' )\n",
    "    CLI( net )\n",
    "    net.stop()"
   ]
  },
  {
   "cell_type": "code",
   "execution_count": null,
   "metadata": {
    "scrolled": false
   },
   "outputs": [
    {
     "name": "stderr",
     "output_type": "stream",
     "text": [
      "*** Creating network\n",
      "*** Adding controller\n",
      "*** Adding hosts:\n",
      "h0 h1 r0 r1 \n",
      "*** Adding switches:\n",
      "\n",
      "*** Adding links:\n",
      "(h0, r0) (h1, r1) (r0, r1) \n",
      "*** Configuring hosts\n",
      "h0 h1 r0 r1 \n",
      "*** Starting controller\n",
      "c0 \n",
      "*** Starting 0 switches\n",
      "\n",
      "*** Routing Table on Router:\n",
      "*** Starting CLI:\n"
     ]
    },
    {
     "name": "stdout",
     "output_type": "stream",
     "text": [
      "Kernel IP routing table\n",
      "Destination     Gateway         Genmask         Flags Metric Ref    Use Iface\n",
      "default         192.168.20.2    0.0.0.0         UG    0      0        0 r0-eth1\n",
      "192.168.10.0    *               255.255.255.0   U     0      0        0 r0-eth0\n",
      "192.168.20.0    *               255.255.255.0   U     0      0        0 r0-eth1\n",
      "\n",
      "Kernel IP routing table\n",
      "Destination     Gateway         Genmask         Flags Metric Ref    Use Iface\n",
      "default         192.168.20.1    0.0.0.0         UG    0      0        0 r1-eth1\n",
      "192.168.20.0    *               255.255.255.0   U     0      0        0 r1-eth1\n",
      "192.168.30.0    *               255.255.255.0   U     0      0        0 r1-eth0\n",
      "\n",
      "Kernel IP routing table\n",
      "Destination     Gateway         Genmask         Flags Metric Ref    Use Iface\n",
      "default         192.168.10.1    0.0.0.0         UG    0      0        0 h0-eth0\n",
      "192.168.10.0    *               255.255.255.0   U     0      0        0 h0-eth0\n",
      "\n",
      "Kernel IP routing table\n",
      "Destination     Gateway         Genmask         Flags Metric Ref    Use Iface\n",
      "default         192.168.30.1    0.0.0.0         UG    0      0        0 h1-eth0\n",
      "192.168.30.0    *               255.255.255.0   U     0      0        0 h1-eth0\n",
      "\n",
      "mininet> pingall\n"
     ]
    },
    {
     "name": "stderr",
     "output_type": "stream",
     "text": [
      "*** Ping: testing ping reachability\n",
      "h0 -> h1 r0 r1 \n",
      "h1 -> h0 r0 r1 \n",
      "r0 -> h0 h1 r1 \n",
      "r1 -> h0 h1 r0 \n",
      "*** Results: 0% dropped (12/12 received)\n"
     ]
    }
   ],
   "source": [
    "if __name__ == '__main__':\n",
    "    setLogLevel( 'info' )\n",
    "    run()"
   ]
  },
  {
   "cell_type": "markdown",
   "metadata": {},
   "source": [
    "![](https://i.imgur.com/W8xnPoo.png)"
   ]
  },
  {
   "cell_type": "code",
   "execution_count": null,
   "metadata": {},
   "outputs": [],
   "source": []
  }
 ],
 "metadata": {
  "kernelspec": {
   "display_name": "Python 2",
   "language": "python",
   "name": "python2"
  },
  "language_info": {
   "codemirror_mode": {
    "name": "ipython",
    "version": 2
   },
   "file_extension": ".py",
   "mimetype": "text/x-python",
   "name": "python",
   "nbconvert_exporter": "python",
   "pygments_lexer": "ipython2",
   "version": "2.7.12"
  }
 },
 "nbformat": 4,
 "nbformat_minor": 2
}
