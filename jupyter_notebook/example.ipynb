{
 "cells": [
  {
   "cell_type": "code",
   "execution_count": 52,
   "metadata": {},
   "outputs": [
    {
     "data": {
      "text/plain": [
       "\"\\nlinuxrouter.py: Example network with Linux IP router\\nThis example converts a Node into a router using IP forwarding\\nalready built into Linux.\\nThe example topology creates a router and three IP subnets:\\n    - 192.168.1.0/24 (r0-eth1, IP: 192.168.1.1)\\n    - 172.16.0.0/12 (r0-eth2, IP: 172.16.0.1)\\n    - 10.0.0.0/8 (r0-eth3, IP: 10.0.0.1)\\nEach subnet consists of a single host connected to\\na single switch:\\n    r0-eth1 - s1-eth1 - h1-eth0 (IP: 192.168.1.100)\\n    r0-eth2 - s2-eth1 - h2-eth0 (IP: 172.16.0.100)\\n    r0-eth3 - s3-eth1 - h3-eth0 (IP: 10.0.0.100)\\nThe example relies on default routing entries that are\\nautomatically created for each router interface, as well\\nas 'defaultRoute' parameters for the host interfaces.\\nAdditional routes may be added to the router or hosts by\\nexecuting 'ip route' or 'route' commands on the router or hosts.\\n\""
      ]
     },
     "execution_count": 52,
     "metadata": {},
     "output_type": "execute_result"
    }
   ],
   "source": [
    "\"\"\"\n",
    "linuxrouter.py: Example network with Linux IP router\n",
    "This example converts a Node into a router using IP forwarding\n",
    "already built into Linux.\n",
    "The example topology creates a router and three IP subnets:\n",
    "    - 192.168.1.0/24 (r0-eth1, IP: 192.168.1.1)\n",
    "    - 172.16.0.0/12 (r0-eth2, IP: 172.16.0.1)\n",
    "    - 10.0.0.0/8 (r0-eth3, IP: 10.0.0.1)\n",
    "Each subnet consists of a single host connected to\n",
    "a single switch:\n",
    "    r0-eth1 - s1-eth1 - h1-eth0 (IP: 192.168.1.100)\n",
    "    r0-eth2 - s2-eth1 - h2-eth0 (IP: 172.16.0.100)\n",
    "    r0-eth3 - s3-eth1 - h3-eth0 (IP: 10.0.0.100)\n",
    "The example relies on default routing entries that are\n",
    "automatically created for each router interface, as well\n",
    "as 'defaultRoute' parameters for the host interfaces.\n",
    "Additional routes may be added to the router or hosts by\n",
    "executing 'ip route' or 'route' commands on the router or hosts.\n",
    "\"\"\""
   ]
  },
  {
   "cell_type": "code",
   "execution_count": 53,
   "metadata": {},
   "outputs": [],
   "source": [
    "from mininet.topo import Topo\n",
    "from mininet.net import Mininet\n",
    "from mininet.node import Node\n",
    "from mininet.log import setLogLevel, info\n",
    "from mininet.cli import CLI"
   ]
  },
  {
   "cell_type": "code",
   "execution_count": 54,
   "metadata": {},
   "outputs": [],
   "source": [
    "class LinuxRouter( Node ):\n",
    "    \"A Node with IP forwarding enabled.\"\n",
    "\n",
    "    def config( self, **params ):\n",
    "        super( LinuxRouter, self).config( **params )\n",
    "        # Enable forwarding on the router\n",
    "        self.cmd( 'sysctl net.ipv4.ip_forward=1' )\n",
    "\n",
    "    def terminate( self ):\n",
    "        self.cmd( 'sysctl net.ipv4.ip_forward=0' )\n",
    "        super( LinuxRouter, self ).terminate()"
   ]
  },
  {
   "cell_type": "code",
   "execution_count": 55,
   "metadata": {},
   "outputs": [],
   "source": [
    "class NetworkTopo( Topo ):\n",
    "    \"A LinuxRouter connecting three IP subnets\"\n",
    "\n",
    "    def build( self, **_opts ):\n",
    "\n",
    "        defaultIP = '192.168.1.1/24'  # IP address for r0-eth1\n",
    "        defaultIP_2 = '192.168.2.1/24'  # IP address for r0-eth1\n",
    "        router = self.addNode( 'r0', cls=LinuxRouter, ip=defaultIP )\n",
    "        router_2 = self.addNode( 'r1', cls=LinuxRouter, ip=defaultIP_2)\n",
    "\n",
    "        s1, s2, s3 = [ self.addSwitch( s ) for s in ( 's1', 's2', 's3' ) ]\n",
    "        \n",
    "#         s21, s22, s23 = [self.addSwitch( s ) for s in ('s1', 's2', 's3' ) ]\n",
    "        \n",
    "#         self.addLink( s21, router, intfName2='r0-eth1',\n",
    "#                       params2={ 'ip' : defaultIP_2 } )  # for clarity\n",
    "        \n",
    "#         self.addLink( s22, router, intfName2='r0-eth2',\n",
    "#                       params2={ 'ip' : '172.16.0.1/12' } )\n",
    "        \n",
    "#         self.addLink( s23, router, intfName2='r0-eth3',\n",
    "#                       params2={ 'ip' : '10.0.0.1/8' } )\n",
    "        \n",
    "        \n",
    "        self.addLink( s1, router, intfName2='r0-eth1',\n",
    "                      params2={ 'ip' : defaultIP } )  # for clarity\n",
    "#         self.addLink( router, router_2, intfName2='r0-eth2',\n",
    "#                       params2={ 'ip' : defaultIP_2 } )  # for clarity\n",
    "#         self.addLink( router, router_2, intfName2='r0-eth2',\n",
    "#                       params2={ 'ip' : defaultIP } )  # for clarity\n",
    "#         self.addLink( s2, router, intfName2='r0-eth2',\n",
    "#                       params2={ 'ip' : '172.16.0.1/12' } )\n",
    "#         self.addLink( s3, router, intfName2='r0-eth3',\n",
    "#                       params2={ 'ip' : '10.0.0.1/8' } )\n",
    "\n",
    "#         h1 = self.addHost( 'h1', ip='192.168.1.100/24',\n",
    "#                            defaultRoute='via 192.168.1.1' )\n",
    "#         h2 = self.addHost( 'h2', ip='172.16.0.100/12',\n",
    "#                            defaultRoute='via 172.16.0.1' )\n",
    "#         h3 = self.addHost( 'h3', ip='10.0.0.100/8',\n",
    "#                            defaultRoute='via 10.0.0.1' )\n",
    "\n",
    "#         for h, s in [ (h1, s1), (h2, s2), (h3, s3) ]:\n",
    "#             self.addLink( h, s )"
   ]
  },
  {
   "cell_type": "code",
   "execution_count": null,
   "metadata": {},
   "outputs": [
    {
     "name": "stderr",
     "output_type": "stream",
     "text": [
      "*** Creating network\n",
      "*** Adding controller\n",
      "*** Adding hosts:\n",
      "r0 r1 \n",
      "*** Adding switches:\n",
      "s1 s2 s3 \n",
      "*** Adding links:\n",
      "(s1, r0) \n",
      "*** Configuring hosts\n",
      "r0 r1 *** defaultIntf: warning: r1 has no interfaces\n",
      "\n",
      "*** Starting controller\n",
      "c0 \n",
      "*** Starting 3 switches\n",
      "s1 s2 s3 ...\n",
      "*** Routing Table on Router:\n",
      "Kernel IP routing table\n",
      "Destination     Gateway         Genmask         Flags Metric Ref    Use Iface\n",
      "192.168.1.0     *               255.255.255.0   U     0      0        0 r0-eth1\n",
      "Kernel IP routing table\n",
      "Destination     Gateway         Genmask         Flags Metric Ref    Use Iface\n",
      "*** Starting CLI:\n"
     ]
    },
    {
     "name": "stdout",
     "output_type": "stream",
     "text": [
      "mininet> links\n"
     ]
    },
    {
     "name": "stderr",
     "output_type": "stream",
     "text": [
      "s1-eth1<->r0-eth1 (OK OK) \n"
     ]
    },
    {
     "name": "stdout",
     "output_type": "stream",
     "text": [
      "mininet> pingall\n"
     ]
    },
    {
     "name": "stderr",
     "output_type": "stream",
     "text": [
      "*** Ping: testing ping reachability\n",
      "r0 -> X \n",
      "r1 -> X \n",
      "*** Results: 100% dropped (0/1 received)\n"
     ]
    }
   ],
   "source": [
    "def run():\n",
    "    \"Test linux router\"\n",
    "    topo = NetworkTopo()\n",
    "    net = Mininet( topo=topo )  # controller is used by s1-s3\n",
    "    net.start()\n",
    "    info( '*** Routing Table on Router:\\n' )\n",
    "    info( net[ 'r0' ].cmd( 'route' ) )\n",
    "    info( net[ 'r1' ].cmd( 'route' ) )\n",
    "    CLI( net )\n",
    "    net.stop()\n",
    "\n",
    "if __name__ == '__main__':\n",
    "    setLogLevel( 'info' )\n",
    "    run()"
   ]
  },
  {
   "cell_type": "code",
   "execution_count": null,
   "metadata": {},
   "outputs": [],
   "source": []
  }
 ],
 "metadata": {
  "kernelspec": {
   "display_name": "Python 2",
   "language": "python",
   "name": "python2"
  },
  "language_info": {
   "codemirror_mode": {
    "name": "ipython",
    "version": 2
   },
   "file_extension": ".py",
   "mimetype": "text/x-python",
   "name": "python",
   "nbconvert_exporter": "python",
   "pygments_lexer": "ipython2",
   "version": "2.7.12"
  }
 },
 "nbformat": 4,
 "nbformat_minor": 2
}
